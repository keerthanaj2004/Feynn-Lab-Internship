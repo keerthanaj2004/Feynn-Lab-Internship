{
 "cells": [
  {
   "cell_type": "code",
   "execution_count": 44,
   "id": "788d45da",
   "metadata": {
    "_cell_guid": "b1076dfc-b9ad-4769-8c92-a6c4dae69d19",
    "_kg_hide-input": true,
    "_kg_hide-output": true,
    "_uuid": "8f2839f25d086af736a60e9eeb907d3b93b6e0e5",
    "execution": {
     "iopub.execute_input": "2023-07-09T07:34:50.447696Z",
     "iopub.status.busy": "2023-07-09T07:34:50.447156Z",
     "iopub.status.idle": "2023-07-09T07:34:52.963507Z",
     "shell.execute_reply": "2023-07-09T07:34:52.962368Z"
    },
    "papermill": {
     "duration": 2.539209,
     "end_time": "2023-07-09T07:34:52.966509",
     "exception": false,
     "start_time": "2023-07-09T07:34:50.427300",
     "status": "completed"
    },
    "tags": []
   },
   "outputs": [],
   "source": [
    "import numpy as np\n",
    "import pandas as pd\n",
    "import matplotlib.pyplot as plt\n",
    "import seaborn as sns\n",
    "%matplotlib inline\n",
    "import plotly.express as px\n",
    "\n",
    "import warnings\n",
    "warnings.filterwarnings('ignore')\n",
    "\n",
    "# import os\n",
    "# for dirname, _, filenames in os.walk('/kaggle/input'):\n",
    "#     for filename in filenames:\n",
    "#         print(os.path.join(dirname, filename))"
   ]
  },
  {
   "cell_type": "markdown",
   "id": "2e1f32f6",
   "metadata": {
    "papermill": {
     "duration": 0.018229,
     "end_time": "2023-07-09T07:34:53.003567",
     "exception": false,
     "start_time": "2023-07-09T07:34:52.985338",
     "status": "completed"
    },
    "tags": []
   },
   "source": [
    "<a id=\"section-one\"></a>\n",
    "## <b><span style='color:#f0bc22'></span> Loading and Cleaning data"
   ]
  },
  {
   "cell_type": "markdown",
   "id": "07b6c117",
   "metadata": {
    "papermill": {
     "duration": 0.018382,
     "end_time": "2023-07-09T07:34:53.042126",
     "exception": false,
     "start_time": "2023-07-09T07:34:53.023744",
     "status": "completed"
    },
    "tags": []
   },
   "source": [
    "### <b><span style='color:#f0bc22'></span> Loading data"
   ]
  },
  {
   "cell_type": "code",
   "execution_count": 45,
   "id": "f792dc5e",
   "metadata": {
    "_kg_hide-input": true,
    "execution": {
     "iopub.execute_input": "2023-07-09T07:34:53.081826Z",
     "iopub.status.busy": "2023-07-09T07:34:53.081409Z",
     "iopub.status.idle": "2023-07-09T07:34:54.390082Z",
     "shell.execute_reply": "2023-07-09T07:34:54.389266Z"
    },
    "papermill": {
     "duration": 1.332142,
     "end_time": "2023-07-09T07:34:54.392761",
     "exception": false,
     "start_time": "2023-07-09T07:34:53.060619",
     "status": "completed"
    },
    "tags": []
   },
   "outputs": [
    {
     "data": {
      "text/html": [
       "<div>\n",
       "<style scoped>\n",
       "    .dataframe tbody tr th:only-of-type {\n",
       "        vertical-align: middle;\n",
       "    }\n",
       "\n",
       "    .dataframe tbody tr th {\n",
       "        vertical-align: top;\n",
       "    }\n",
       "\n",
       "    .dataframe thead th {\n",
       "        text-align: right;\n",
       "    }\n",
       "</style>\n",
       "<table border=\"1\" class=\"dataframe\">\n",
       "  <thead>\n",
       "    <tr style=\"text-align: right;\">\n",
       "      <th></th>\n",
       "      <th>BillNo</th>\n",
       "      <th>Itemname</th>\n",
       "      <th>Quantity</th>\n",
       "      <th>Date</th>\n",
       "      <th>Price</th>\n",
       "      <th>CustomerID</th>\n",
       "      <th>Country</th>\n",
       "    </tr>\n",
       "  </thead>\n",
       "  <tbody>\n",
       "    <tr>\n",
       "      <th>0</th>\n",
       "      <td>536365</td>\n",
       "      <td>WHITE HANGING HEART T-LIGHT HOLDER</td>\n",
       "      <td>6</td>\n",
       "      <td>01.12.2010 08:26</td>\n",
       "      <td>2,55</td>\n",
       "      <td>17850.0</td>\n",
       "      <td>United Kingdom</td>\n",
       "    </tr>\n",
       "    <tr>\n",
       "      <th>1</th>\n",
       "      <td>536365</td>\n",
       "      <td>WHITE METAL LANTERN</td>\n",
       "      <td>6</td>\n",
       "      <td>01.12.2010 08:26</td>\n",
       "      <td>3,39</td>\n",
       "      <td>17850.0</td>\n",
       "      <td>United Kingdom</td>\n",
       "    </tr>\n",
       "    <tr>\n",
       "      <th>2</th>\n",
       "      <td>536365</td>\n",
       "      <td>CREAM CUPID HEARTS COAT HANGER</td>\n",
       "      <td>8</td>\n",
       "      <td>01.12.2010 08:26</td>\n",
       "      <td>2,75</td>\n",
       "      <td>17850.0</td>\n",
       "      <td>United Kingdom</td>\n",
       "    </tr>\n",
       "    <tr>\n",
       "      <th>3</th>\n",
       "      <td>536365</td>\n",
       "      <td>KNITTED UNION FLAG HOT WATER BOTTLE</td>\n",
       "      <td>6</td>\n",
       "      <td>01.12.2010 08:26</td>\n",
       "      <td>3,39</td>\n",
       "      <td>17850.0</td>\n",
       "      <td>United Kingdom</td>\n",
       "    </tr>\n",
       "    <tr>\n",
       "      <th>4</th>\n",
       "      <td>536365</td>\n",
       "      <td>RED WOOLLY HOTTIE WHITE HEART.</td>\n",
       "      <td>6</td>\n",
       "      <td>01.12.2010 08:26</td>\n",
       "      <td>3,39</td>\n",
       "      <td>17850.0</td>\n",
       "      <td>United Kingdom</td>\n",
       "    </tr>\n",
       "  </tbody>\n",
       "</table>\n",
       "</div>"
      ],
      "text/plain": [
       "   BillNo                             Itemname  Quantity              Date   \n",
       "0  536365   WHITE HANGING HEART T-LIGHT HOLDER         6  01.12.2010 08:26  \\\n",
       "1  536365                  WHITE METAL LANTERN         6  01.12.2010 08:26   \n",
       "2  536365       CREAM CUPID HEARTS COAT HANGER         8  01.12.2010 08:26   \n",
       "3  536365  KNITTED UNION FLAG HOT WATER BOTTLE         6  01.12.2010 08:26   \n",
       "4  536365       RED WOOLLY HOTTIE WHITE HEART.         6  01.12.2010 08:26   \n",
       "\n",
       "  Price  CustomerID         Country  \n",
       "0  2,55     17850.0  United Kingdom  \n",
       "1  3,39     17850.0  United Kingdom  \n",
       "2  2,75     17850.0  United Kingdom  \n",
       "3  3,39     17850.0  United Kingdom  \n",
       "4  3,39     17850.0  United Kingdom  "
      ]
     },
     "execution_count": 45,
     "metadata": {},
     "output_type": "execute_result"
    }
   ],
   "source": [
    "df=pd.read_csv('Assignment-1_Data.csv',delimiter=';')\n",
    "df.head()"
   ]
  },
  {
   "cell_type": "code",
   "execution_count": 46,
   "id": "a42caf12",
   "metadata": {
    "_kg_hide-input": true,
    "execution": {
     "iopub.execute_input": "2023-07-09T07:34:54.433370Z",
     "iopub.status.busy": "2023-07-09T07:34:54.432572Z",
     "iopub.status.idle": "2023-07-09T07:34:55.296419Z",
     "shell.execute_reply": "2023-07-09T07:34:55.294869Z"
    },
    "papermill": {
     "duration": 0.886855,
     "end_time": "2023-07-09T07:34:55.299017",
     "exception": false,
     "start_time": "2023-07-09T07:34:54.412162",
     "status": "completed"
    },
    "tags": []
   },
   "outputs": [
    {
     "name": "stdout",
     "output_type": "stream",
     "text": [
      "<class 'pandas.core.frame.DataFrame'>\n",
      "RangeIndex: 522064 entries, 0 to 522063\n",
      "Data columns (total 7 columns):\n",
      " #   Column      Non-Null Count   Dtype  \n",
      "---  ------      --------------   -----  \n",
      " 0   BillNo      522064 non-null  object \n",
      " 1   Itemname    520609 non-null  object \n",
      " 2   Quantity    522064 non-null  int64  \n",
      " 3   Date        522064 non-null  object \n",
      " 4   Price       522064 non-null  object \n",
      " 5   CustomerID  388023 non-null  float64\n",
      " 6   Country     522064 non-null  object \n",
      "dtypes: float64(1), int64(1), object(5)\n",
      "memory usage: 27.9+ MB\n"
     ]
    }
   ],
   "source": [
    "df.info()"
   ]
  },
  {
   "cell_type": "code",
   "execution_count": 47,
   "id": "62f2aed8",
   "metadata": {
    "_kg_hide-input": true,
    "execution": {
     "iopub.execute_input": "2023-07-09T07:34:55.339381Z",
     "iopub.status.busy": "2023-07-09T07:34:55.337980Z",
     "iopub.status.idle": "2023-07-09T07:34:56.178819Z",
     "shell.execute_reply": "2023-07-09T07:34:56.177717Z"
    },
    "papermill": {
     "duration": 0.863329,
     "end_time": "2023-07-09T07:34:56.181348",
     "exception": false,
     "start_time": "2023-07-09T07:34:55.318019",
     "status": "completed"
    },
    "tags": []
   },
   "outputs": [
    {
     "data": {
      "text/plain": [
       "BillNo             0\n",
       "Itemname        1455\n",
       "Quantity           0\n",
       "Date               0\n",
       "Price              0\n",
       "CustomerID    134041\n",
       "Country            0\n",
       "dtype: int64"
      ]
     },
     "execution_count": 47,
     "metadata": {},
     "output_type": "execute_result"
    }
   ],
   "source": [
    "df.isnull().sum()"
   ]
  },
  {
   "cell_type": "markdown",
   "id": "c4d3f32d",
   "metadata": {
    "papermill": {
     "duration": 0.018642,
     "end_time": "2023-07-09T07:34:56.218981",
     "exception": false,
     "start_time": "2023-07-09T07:34:56.200339",
     "status": "completed"
    },
    "tags": []
   },
   "source": [
    "### <b><span style='color:#f0bc22'></span> Dropping data with **`negative`** or **`zero quantity`**"
   ]
  },
  {
   "cell_type": "code",
   "execution_count": 48,
   "id": "1ee1d7cc",
   "metadata": {
    "_kg_hide-input": true,
    "_kg_hide-output": true,
    "execution": {
     "iopub.execute_input": "2023-07-09T07:34:56.260069Z",
     "iopub.status.busy": "2023-07-09T07:34:56.259643Z",
     "iopub.status.idle": "2023-07-09T07:34:56.278808Z",
     "shell.execute_reply": "2023-07-09T07:34:56.277710Z"
    },
    "papermill": {
     "duration": 0.042741,
     "end_time": "2023-07-09T07:34:56.281197",
     "exception": false,
     "start_time": "2023-07-09T07:34:56.238456",
     "status": "completed"
    },
    "tags": []
   },
   "outputs": [
    {
     "data": {
      "text/html": [
       "<div>\n",
       "<style scoped>\n",
       "    .dataframe tbody tr th:only-of-type {\n",
       "        vertical-align: middle;\n",
       "    }\n",
       "\n",
       "    .dataframe tbody tr th {\n",
       "        vertical-align: top;\n",
       "    }\n",
       "\n",
       "    .dataframe thead th {\n",
       "        text-align: right;\n",
       "    }\n",
       "</style>\n",
       "<table border=\"1\" class=\"dataframe\">\n",
       "  <thead>\n",
       "    <tr style=\"text-align: right;\">\n",
       "      <th></th>\n",
       "      <th>BillNo</th>\n",
       "      <th>Itemname</th>\n",
       "      <th>Quantity</th>\n",
       "      <th>Date</th>\n",
       "      <th>Price</th>\n",
       "      <th>CustomerID</th>\n",
       "      <th>Country</th>\n",
       "    </tr>\n",
       "  </thead>\n",
       "  <tbody>\n",
       "    <tr>\n",
       "      <th>2359</th>\n",
       "      <td>536589</td>\n",
       "      <td>NaN</td>\n",
       "      <td>-10</td>\n",
       "      <td>01.12.2010 16:50</td>\n",
       "      <td>0</td>\n",
       "      <td>NaN</td>\n",
       "      <td>United Kingdom</td>\n",
       "    </tr>\n",
       "    <tr>\n",
       "      <th>4289</th>\n",
       "      <td>536764</td>\n",
       "      <td>NaN</td>\n",
       "      <td>-38</td>\n",
       "      <td>02.12.2010 14:42</td>\n",
       "      <td>0</td>\n",
       "      <td>NaN</td>\n",
       "      <td>United Kingdom</td>\n",
       "    </tr>\n",
       "    <tr>\n",
       "      <th>6998</th>\n",
       "      <td>536996</td>\n",
       "      <td>NaN</td>\n",
       "      <td>-20</td>\n",
       "      <td>03.12.2010 15:30</td>\n",
       "      <td>0</td>\n",
       "      <td>NaN</td>\n",
       "      <td>United Kingdom</td>\n",
       "    </tr>\n",
       "    <tr>\n",
       "      <th>6999</th>\n",
       "      <td>536997</td>\n",
       "      <td>NaN</td>\n",
       "      <td>-20</td>\n",
       "      <td>03.12.2010 15:30</td>\n",
       "      <td>0</td>\n",
       "      <td>NaN</td>\n",
       "      <td>United Kingdom</td>\n",
       "    </tr>\n",
       "    <tr>\n",
       "      <th>7000</th>\n",
       "      <td>536998</td>\n",
       "      <td>NaN</td>\n",
       "      <td>-6</td>\n",
       "      <td>03.12.2010 15:30</td>\n",
       "      <td>0</td>\n",
       "      <td>NaN</td>\n",
       "      <td>United Kingdom</td>\n",
       "    </tr>\n",
       "  </tbody>\n",
       "</table>\n",
       "</div>"
      ],
      "text/plain": [
       "      BillNo Itemname  Quantity              Date Price  CustomerID   \n",
       "2359  536589      NaN       -10  01.12.2010 16:50     0         NaN  \\\n",
       "4289  536764      NaN       -38  02.12.2010 14:42     0         NaN   \n",
       "6998  536996      NaN       -20  03.12.2010 15:30     0         NaN   \n",
       "6999  536997      NaN       -20  03.12.2010 15:30     0         NaN   \n",
       "7000  536998      NaN        -6  03.12.2010 15:30     0         NaN   \n",
       "\n",
       "             Country  \n",
       "2359  United Kingdom  \n",
       "4289  United Kingdom  \n",
       "6998  United Kingdom  \n",
       "6999  United Kingdom  \n",
       "7000  United Kingdom  "
      ]
     },
     "execution_count": 48,
     "metadata": {},
     "output_type": "execute_result"
    }
   ],
   "source": [
    "df.loc[df['Quantity']<=0][:5]"
   ]
  },
  {
   "cell_type": "code",
   "execution_count": 49,
   "id": "3600e6c9",
   "metadata": {
    "execution": {
     "iopub.execute_input": "2023-07-09T07:34:56.322034Z",
     "iopub.status.busy": "2023-07-09T07:34:56.321244Z",
     "iopub.status.idle": "2023-07-09T07:34:56.375705Z",
     "shell.execute_reply": "2023-07-09T07:34:56.374584Z"
    },
    "papermill": {
     "duration": 0.078132,
     "end_time": "2023-07-09T07:34:56.378468",
     "exception": false,
     "start_time": "2023-07-09T07:34:56.300336",
     "status": "completed"
    },
    "tags": []
   },
   "outputs": [],
   "source": [
    "df=df.loc[df['Quantity']>0]"
   ]
  },
  {
   "cell_type": "markdown",
   "id": "e6adb983",
   "metadata": {
    "papermill": {
     "duration": 0.019001,
     "end_time": "2023-07-09T07:34:56.416737",
     "exception": false,
     "start_time": "2023-07-09T07:34:56.397736",
     "status": "completed"
    },
    "tags": []
   },
   "source": [
    "### <b><span style='color:#f0bc22'></span> Dropping data with **`zero price`**"
   ]
  },
  {
   "cell_type": "code",
   "execution_count": 50,
   "id": "3a6eb728",
   "metadata": {
    "_kg_hide-input": true,
    "_kg_hide-output": true,
    "execution": {
     "iopub.execute_input": "2023-07-09T07:34:56.457267Z",
     "iopub.status.busy": "2023-07-09T07:34:56.456886Z",
     "iopub.status.idle": "2023-07-09T07:34:56.550074Z",
     "shell.execute_reply": "2023-07-09T07:34:56.548800Z"
    },
    "papermill": {
     "duration": 0.116755,
     "end_time": "2023-07-09T07:34:56.552807",
     "exception": false,
     "start_time": "2023-07-09T07:34:56.436052",
     "status": "completed"
    },
    "tags": []
   },
   "outputs": [
    {
     "data": {
      "text/html": [
       "<div>\n",
       "<style scoped>\n",
       "    .dataframe tbody tr th:only-of-type {\n",
       "        vertical-align: middle;\n",
       "    }\n",
       "\n",
       "    .dataframe tbody tr th {\n",
       "        vertical-align: top;\n",
       "    }\n",
       "\n",
       "    .dataframe thead th {\n",
       "        text-align: right;\n",
       "    }\n",
       "</style>\n",
       "<table border=\"1\" class=\"dataframe\">\n",
       "  <thead>\n",
       "    <tr style=\"text-align: right;\">\n",
       "      <th></th>\n",
       "      <th>BillNo</th>\n",
       "      <th>Itemname</th>\n",
       "      <th>Quantity</th>\n",
       "      <th>Date</th>\n",
       "      <th>Price</th>\n",
       "      <th>CustomerID</th>\n",
       "      <th>Country</th>\n",
       "    </tr>\n",
       "  </thead>\n",
       "  <tbody>\n",
       "    <tr>\n",
       "      <th>613</th>\n",
       "      <td>536414</td>\n",
       "      <td>NaN</td>\n",
       "      <td>56</td>\n",
       "      <td>01.12.2010 11:52</td>\n",
       "      <td>0</td>\n",
       "      <td>NaN</td>\n",
       "      <td>United Kingdom</td>\n",
       "    </tr>\n",
       "    <tr>\n",
       "      <th>1937</th>\n",
       "      <td>536545</td>\n",
       "      <td>NaN</td>\n",
       "      <td>1</td>\n",
       "      <td>01.12.2010 14:32</td>\n",
       "      <td>0</td>\n",
       "      <td>NaN</td>\n",
       "      <td>United Kingdom</td>\n",
       "    </tr>\n",
       "    <tr>\n",
       "      <th>1938</th>\n",
       "      <td>536546</td>\n",
       "      <td>NaN</td>\n",
       "      <td>1</td>\n",
       "      <td>01.12.2010 14:33</td>\n",
       "      <td>0</td>\n",
       "      <td>NaN</td>\n",
       "      <td>United Kingdom</td>\n",
       "    </tr>\n",
       "    <tr>\n",
       "      <th>1939</th>\n",
       "      <td>536547</td>\n",
       "      <td>NaN</td>\n",
       "      <td>1</td>\n",
       "      <td>01.12.2010 14:33</td>\n",
       "      <td>0</td>\n",
       "      <td>NaN</td>\n",
       "      <td>United Kingdom</td>\n",
       "    </tr>\n",
       "    <tr>\n",
       "      <th>1940</th>\n",
       "      <td>536549</td>\n",
       "      <td>NaN</td>\n",
       "      <td>1</td>\n",
       "      <td>01.12.2010 14:34</td>\n",
       "      <td>0</td>\n",
       "      <td>NaN</td>\n",
       "      <td>United Kingdom</td>\n",
       "    </tr>\n",
       "  </tbody>\n",
       "</table>\n",
       "</div>"
      ],
      "text/plain": [
       "      BillNo Itemname  Quantity              Date Price  CustomerID   \n",
       "613   536414      NaN        56  01.12.2010 11:52     0         NaN  \\\n",
       "1937  536545      NaN         1  01.12.2010 14:32     0         NaN   \n",
       "1938  536546      NaN         1  01.12.2010 14:33     0         NaN   \n",
       "1939  536547      NaN         1  01.12.2010 14:33     0         NaN   \n",
       "1940  536549      NaN         1  01.12.2010 14:34     0         NaN   \n",
       "\n",
       "             Country  \n",
       "613   United Kingdom  \n",
       "1937  United Kingdom  \n",
       "1938  United Kingdom  \n",
       "1939  United Kingdom  \n",
       "1940  United Kingdom  "
      ]
     },
     "execution_count": 50,
     "metadata": {},
     "output_type": "execute_result"
    }
   ],
   "source": [
    "df.loc[df['Price']<='0'][:5\n",
    "                        ]"
   ]
  },
  {
   "cell_type": "code",
   "execution_count": 51,
   "id": "b2c3718e",
   "metadata": {
    "execution": {
     "iopub.execute_input": "2023-07-09T07:34:56.593873Z",
     "iopub.status.busy": "2023-07-09T07:34:56.593457Z",
     "iopub.status.idle": "2023-07-09T07:34:56.762035Z",
     "shell.execute_reply": "2023-07-09T07:34:56.760725Z"
    },
    "papermill": {
     "duration": 0.193621,
     "end_time": "2023-07-09T07:34:56.766169",
     "exception": false,
     "start_time": "2023-07-09T07:34:56.572548",
     "status": "completed"
    },
    "tags": []
   },
   "outputs": [],
   "source": [
    "df=df.loc[df['Price']>'0']"
   ]
  },
  {
   "cell_type": "markdown",
   "id": "8e8bb038",
   "metadata": {
    "papermill": {
     "duration": 0.02052,
     "end_time": "2023-07-09T07:34:56.814267",
     "exception": false,
     "start_time": "2023-07-09T07:34:56.793747",
     "status": "completed"
    },
    "tags": []
   },
   "source": [
    "### <b><span style='color:#f0bc22'></span> Dropping **`Non-product`** data."
   ]
  },
  {
   "cell_type": "code",
   "execution_count": 52,
   "id": "4931fa53",
   "metadata": {
    "_kg_hide-input": true,
    "_kg_hide-output": true,
    "execution": {
     "iopub.execute_input": "2023-07-09T07:34:56.856261Z",
     "iopub.status.busy": "2023-07-09T07:34:56.855875Z",
     "iopub.status.idle": "2023-07-09T07:34:57.218296Z",
     "shell.execute_reply": "2023-07-09T07:34:57.216987Z"
    },
    "papermill": {
     "duration": 0.38627,
     "end_time": "2023-07-09T07:34:57.220824",
     "exception": false,
     "start_time": "2023-07-09T07:34:56.834554",
     "status": "completed"
    },
    "tags": []
   },
   "outputs": [
    {
     "data": {
      "text/html": [
       "<div>\n",
       "<style scoped>\n",
       "    .dataframe tbody tr th:only-of-type {\n",
       "        vertical-align: middle;\n",
       "    }\n",
       "\n",
       "    .dataframe tbody tr th {\n",
       "        vertical-align: top;\n",
       "    }\n",
       "\n",
       "    .dataframe thead th {\n",
       "        text-align: right;\n",
       "    }\n",
       "</style>\n",
       "<table border=\"1\" class=\"dataframe\">\n",
       "  <thead>\n",
       "    <tr style=\"text-align: right;\">\n",
       "      <th></th>\n",
       "      <th>BillNo</th>\n",
       "      <th>Itemname</th>\n",
       "      <th>Quantity</th>\n",
       "      <th>Date</th>\n",
       "      <th>Price</th>\n",
       "      <th>CustomerID</th>\n",
       "      <th>Country</th>\n",
       "    </tr>\n",
       "  </thead>\n",
       "  <tbody>\n",
       "    <tr>\n",
       "      <th>45</th>\n",
       "      <td>536370</td>\n",
       "      <td>POSTAGE</td>\n",
       "      <td>3</td>\n",
       "      <td>01.12.2010 08:45</td>\n",
       "      <td>18</td>\n",
       "      <td>12583.0</td>\n",
       "      <td>France</td>\n",
       "    </tr>\n",
       "    <tr>\n",
       "      <th>377</th>\n",
       "      <td>536403</td>\n",
       "      <td>POSTAGE</td>\n",
       "      <td>1</td>\n",
       "      <td>01.12.2010 11:27</td>\n",
       "      <td>15</td>\n",
       "      <td>12791.0</td>\n",
       "      <td>Netherlands</td>\n",
       "    </tr>\n",
       "    <tr>\n",
       "      <th>1113</th>\n",
       "      <td>536527</td>\n",
       "      <td>POSTAGE</td>\n",
       "      <td>1</td>\n",
       "      <td>01.12.2010 13:04</td>\n",
       "      <td>18</td>\n",
       "      <td>12662.0</td>\n",
       "      <td>Germany</td>\n",
       "    </tr>\n",
       "    <tr>\n",
       "      <th>1781</th>\n",
       "      <td>536544</td>\n",
       "      <td>DOTCOM POSTAGE</td>\n",
       "      <td>1</td>\n",
       "      <td>01.12.2010 14:32</td>\n",
       "      <td>569,77</td>\n",
       "      <td>NaN</td>\n",
       "      <td>United Kingdom</td>\n",
       "    </tr>\n",
       "    <tr>\n",
       "      <th>2192</th>\n",
       "      <td>536569</td>\n",
       "      <td>Manual</td>\n",
       "      <td>1</td>\n",
       "      <td>01.12.2010 15:35</td>\n",
       "      <td>1,25</td>\n",
       "      <td>16274.0</td>\n",
       "      <td>United Kingdom</td>\n",
       "    </tr>\n",
       "  </tbody>\n",
       "</table>\n",
       "</div>"
      ],
      "text/plain": [
       "      BillNo        Itemname  Quantity              Date   Price  CustomerID   \n",
       "45    536370         POSTAGE         3  01.12.2010 08:45      18     12583.0  \\\n",
       "377   536403         POSTAGE         1  01.12.2010 11:27      15     12791.0   \n",
       "1113  536527         POSTAGE         1  01.12.2010 13:04      18     12662.0   \n",
       "1781  536544  DOTCOM POSTAGE         1  01.12.2010 14:32  569,77         NaN   \n",
       "2192  536569          Manual         1  01.12.2010 15:35    1,25     16274.0   \n",
       "\n",
       "             Country  \n",
       "45            France  \n",
       "377      Netherlands  \n",
       "1113         Germany  \n",
       "1781  United Kingdom  \n",
       "2192  United Kingdom  "
      ]
     },
     "execution_count": 52,
     "metadata": {},
     "output_type": "execute_result"
    }
   ],
   "source": [
    "df.loc[(df['Itemname']=='POSTAGE')|(df['Itemname']=='DOTCOM POSTAGE')|(df['Itemname']=='Adjust bad debt')|(df['Itemname']=='Manual')].head()"
   ]
  },
  {
   "cell_type": "code",
   "execution_count": 53,
   "id": "80457d5a",
   "metadata": {
    "_kg_hide-output": false,
    "execution": {
     "iopub.execute_input": "2023-07-09T07:34:57.263317Z",
     "iopub.status.busy": "2023-07-09T07:34:57.262536Z",
     "iopub.status.idle": "2023-07-09T07:34:57.644569Z",
     "shell.execute_reply": "2023-07-09T07:34:57.643659Z"
    },
    "papermill": {
     "duration": 0.406739,
     "end_time": "2023-07-09T07:34:57.647672",
     "exception": false,
     "start_time": "2023-07-09T07:34:57.240933",
     "status": "completed"
    },
    "tags": []
   },
   "outputs": [],
   "source": [
    "df=df.loc[(df['Itemname']!='POSTAGE')&(df['Itemname']!='DOTCOM POSTAGE')&(df['Itemname']!='Adjust bad debt')&(df['Itemname']!='Manual')]"
   ]
  },
  {
   "cell_type": "markdown",
   "id": "cc9fb0a4",
   "metadata": {
    "papermill": {
     "duration": 0.01951,
     "end_time": "2023-07-09T07:34:57.690614",
     "exception": false,
     "start_time": "2023-07-09T07:34:57.671104",
     "status": "completed"
    },
    "tags": []
   },
   "source": [
    "### <b><span style='color:#f0bc22'></span> Filling **`null`** data"
   ]
  },
  {
   "cell_type": "code",
   "execution_count": 54,
   "id": "64a39266",
   "metadata": {
    "_kg_hide-input": true,
    "_kg_hide-output": true,
    "execution": {
     "iopub.execute_input": "2023-07-09T07:34:57.732596Z",
     "iopub.status.busy": "2023-07-09T07:34:57.731941Z",
     "iopub.status.idle": "2023-07-09T07:34:58.567622Z",
     "shell.execute_reply": "2023-07-09T07:34:58.566526Z"
    },
    "papermill": {
     "duration": 0.859654,
     "end_time": "2023-07-09T07:34:58.570343",
     "exception": false,
     "start_time": "2023-07-09T07:34:57.710689",
     "status": "completed"
    },
    "tags": []
   },
   "outputs": [
    {
     "data": {
      "text/plain": [
       "BillNo             0\n",
       "Itemname           0\n",
       "Quantity           0\n",
       "Date               0\n",
       "Price              0\n",
       "CustomerID    130813\n",
       "Country            0\n",
       "dtype: int64"
      ]
     },
     "execution_count": 54,
     "metadata": {},
     "output_type": "execute_result"
    }
   ],
   "source": [
    "df.isnull().sum()"
   ]
  },
  {
   "cell_type": "code",
   "execution_count": 55,
   "id": "deb0a447",
   "metadata": {
    "execution": {
     "iopub.execute_input": "2023-07-09T07:34:58.612647Z",
     "iopub.status.busy": "2023-07-09T07:34:58.612191Z",
     "iopub.status.idle": "2023-07-09T07:35:00.585796Z",
     "shell.execute_reply": "2023-07-09T07:35:00.584717Z"
    },
    "papermill": {
     "duration": 1.997724,
     "end_time": "2023-07-09T07:35:00.588166",
     "exception": false,
     "start_time": "2023-07-09T07:34:58.590442",
     "status": "completed"
    },
    "tags": []
   },
   "outputs": [
    {
     "data": {
      "text/plain": [
       "BillNo        0\n",
       "Itemname      0\n",
       "Quantity      0\n",
       "Date          0\n",
       "Price         0\n",
       "CustomerID    0\n",
       "Country       0\n",
       "dtype: int64"
      ]
     },
     "execution_count": 55,
     "metadata": {},
     "output_type": "execute_result"
    }
   ],
   "source": [
    "df=df.fillna('-')\n",
    "df.isnull().sum()"
   ]
  },
  {
   "cell_type": "markdown",
   "id": "b1037bdd",
   "metadata": {
    "papermill": {
     "duration": 0.020464,
     "end_time": "2023-07-09T07:35:00.628903",
     "exception": false,
     "start_time": "2023-07-09T07:35:00.608439",
     "status": "completed"
    },
    "tags": []
   },
   "source": [
    "### <b><span style='color:#f0bc22'></span> Splitting data into **`year`** and **`month`**"
   ]
  },
  {
   "cell_type": "code",
   "execution_count": 56,
   "id": "b1f0b134",
   "metadata": {
    "execution": {
     "iopub.execute_input": "2023-07-09T07:35:00.672457Z",
     "iopub.status.busy": "2023-07-09T07:35:00.671612Z",
     "iopub.status.idle": "2023-07-09T07:35:01.626045Z",
     "shell.execute_reply": "2023-07-09T07:35:01.624914Z"
    },
    "papermill": {
     "duration": 0.979346,
     "end_time": "2023-07-09T07:35:01.628816",
     "exception": false,
     "start_time": "2023-07-09T07:35:00.649470",
     "status": "completed"
    },
    "tags": []
   },
   "outputs": [
    {
     "data": {
      "text/html": [
       "<div>\n",
       "<style scoped>\n",
       "    .dataframe tbody tr th:only-of-type {\n",
       "        vertical-align: middle;\n",
       "    }\n",
       "\n",
       "    .dataframe tbody tr th {\n",
       "        vertical-align: top;\n",
       "    }\n",
       "\n",
       "    .dataframe thead th {\n",
       "        text-align: right;\n",
       "    }\n",
       "</style>\n",
       "<table border=\"1\" class=\"dataframe\">\n",
       "  <thead>\n",
       "    <tr style=\"text-align: right;\">\n",
       "      <th></th>\n",
       "      <th>BillNo</th>\n",
       "      <th>Itemname</th>\n",
       "      <th>Quantity</th>\n",
       "      <th>Date</th>\n",
       "      <th>Price</th>\n",
       "      <th>CustomerID</th>\n",
       "      <th>Country</th>\n",
       "      <th>Year</th>\n",
       "      <th>Month</th>\n",
       "    </tr>\n",
       "  </thead>\n",
       "  <tbody>\n",
       "    <tr>\n",
       "      <th>0</th>\n",
       "      <td>536365</td>\n",
       "      <td>WHITE HANGING HEART T-LIGHT HOLDER</td>\n",
       "      <td>6</td>\n",
       "      <td>01.12.2010 08:26</td>\n",
       "      <td>2,55</td>\n",
       "      <td>17850.0</td>\n",
       "      <td>United Kingdom</td>\n",
       "      <td>2010</td>\n",
       "      <td>12</td>\n",
       "    </tr>\n",
       "    <tr>\n",
       "      <th>1</th>\n",
       "      <td>536365</td>\n",
       "      <td>WHITE METAL LANTERN</td>\n",
       "      <td>6</td>\n",
       "      <td>01.12.2010 08:26</td>\n",
       "      <td>3,39</td>\n",
       "      <td>17850.0</td>\n",
       "      <td>United Kingdom</td>\n",
       "      <td>2010</td>\n",
       "      <td>12</td>\n",
       "    </tr>\n",
       "    <tr>\n",
       "      <th>2</th>\n",
       "      <td>536365</td>\n",
       "      <td>CREAM CUPID HEARTS COAT HANGER</td>\n",
       "      <td>8</td>\n",
       "      <td>01.12.2010 08:26</td>\n",
       "      <td>2,75</td>\n",
       "      <td>17850.0</td>\n",
       "      <td>United Kingdom</td>\n",
       "      <td>2010</td>\n",
       "      <td>12</td>\n",
       "    </tr>\n",
       "    <tr>\n",
       "      <th>3</th>\n",
       "      <td>536365</td>\n",
       "      <td>KNITTED UNION FLAG HOT WATER BOTTLE</td>\n",
       "      <td>6</td>\n",
       "      <td>01.12.2010 08:26</td>\n",
       "      <td>3,39</td>\n",
       "      <td>17850.0</td>\n",
       "      <td>United Kingdom</td>\n",
       "      <td>2010</td>\n",
       "      <td>12</td>\n",
       "    </tr>\n",
       "    <tr>\n",
       "      <th>4</th>\n",
       "      <td>536365</td>\n",
       "      <td>RED WOOLLY HOTTIE WHITE HEART.</td>\n",
       "      <td>6</td>\n",
       "      <td>01.12.2010 08:26</td>\n",
       "      <td>3,39</td>\n",
       "      <td>17850.0</td>\n",
       "      <td>United Kingdom</td>\n",
       "      <td>2010</td>\n",
       "      <td>12</td>\n",
       "    </tr>\n",
       "  </tbody>\n",
       "</table>\n",
       "</div>"
      ],
      "text/plain": [
       "   BillNo                             Itemname  Quantity              Date   \n",
       "0  536365   WHITE HANGING HEART T-LIGHT HOLDER         6  01.12.2010 08:26  \\\n",
       "1  536365                  WHITE METAL LANTERN         6  01.12.2010 08:26   \n",
       "2  536365       CREAM CUPID HEARTS COAT HANGER         8  01.12.2010 08:26   \n",
       "3  536365  KNITTED UNION FLAG HOT WATER BOTTLE         6  01.12.2010 08:26   \n",
       "4  536365       RED WOOLLY HOTTIE WHITE HEART.         6  01.12.2010 08:26   \n",
       "\n",
       "  Price CustomerID         Country  Year Month  \n",
       "0  2,55    17850.0  United Kingdom  2010    12  \n",
       "1  3,39    17850.0  United Kingdom  2010    12  \n",
       "2  2,75    17850.0  United Kingdom  2010    12  \n",
       "3  3,39    17850.0  United Kingdom  2010    12  \n",
       "4  3,39    17850.0  United Kingdom  2010    12  "
      ]
     },
     "execution_count": 56,
     "metadata": {},
     "output_type": "execute_result"
    }
   ],
   "source": [
    "df['Year']=df['Date'].apply(lambda x:x.split('.')[2])\n",
    "df['Year']=df['Year'].apply(lambda x:x.split(' ')[0])\n",
    "df['Month']=df['Date'].apply(lambda x:x.split('.')[1])\n",
    "df.head()"
   ]
  },
  {
   "cell_type": "markdown",
   "id": "2b9d764d",
   "metadata": {
    "papermill": {
     "duration": 0.020168,
     "end_time": "2023-07-09T07:35:01.669739",
     "exception": false,
     "start_time": "2023-07-09T07:35:01.649571",
     "status": "completed"
    },
    "tags": []
   },
   "source": [
    "### <b><span style='color:#f0bc22'></span> Creating a **`Total price`** column"
   ]
  },
  {
   "cell_type": "code",
   "execution_count": 57,
   "id": "69cc4889",
   "metadata": {
    "execution": {
     "iopub.execute_input": "2023-07-09T07:35:01.712948Z",
     "iopub.status.busy": "2023-07-09T07:35:01.712495Z",
     "iopub.status.idle": "2023-07-09T07:35:02.177005Z",
     "shell.execute_reply": "2023-07-09T07:35:02.175907Z"
    },
    "papermill": {
     "duration": 0.488812,
     "end_time": "2023-07-09T07:35:02.179431",
     "exception": false,
     "start_time": "2023-07-09T07:35:01.690619",
     "status": "completed"
    },
    "tags": []
   },
   "outputs": [
    {
     "data": {
      "text/html": [
       "<div>\n",
       "<style scoped>\n",
       "    .dataframe tbody tr th:only-of-type {\n",
       "        vertical-align: middle;\n",
       "    }\n",
       "\n",
       "    .dataframe tbody tr th {\n",
       "        vertical-align: top;\n",
       "    }\n",
       "\n",
       "    .dataframe thead th {\n",
       "        text-align: right;\n",
       "    }\n",
       "</style>\n",
       "<table border=\"1\" class=\"dataframe\">\n",
       "  <thead>\n",
       "    <tr style=\"text-align: right;\">\n",
       "      <th></th>\n",
       "      <th>BillNo</th>\n",
       "      <th>Itemname</th>\n",
       "      <th>Quantity</th>\n",
       "      <th>Date</th>\n",
       "      <th>Price</th>\n",
       "      <th>CustomerID</th>\n",
       "      <th>Country</th>\n",
       "      <th>Year</th>\n",
       "      <th>Month</th>\n",
       "      <th>Total price</th>\n",
       "    </tr>\n",
       "  </thead>\n",
       "  <tbody>\n",
       "    <tr>\n",
       "      <th>0</th>\n",
       "      <td>536365</td>\n",
       "      <td>WHITE HANGING HEART T-LIGHT HOLDER</td>\n",
       "      <td>6</td>\n",
       "      <td>01.12.2010 08:26</td>\n",
       "      <td>2.55</td>\n",
       "      <td>17850.0</td>\n",
       "      <td>United Kingdom</td>\n",
       "      <td>2010</td>\n",
       "      <td>12</td>\n",
       "      <td>15.30</td>\n",
       "    </tr>\n",
       "    <tr>\n",
       "      <th>1</th>\n",
       "      <td>536365</td>\n",
       "      <td>WHITE METAL LANTERN</td>\n",
       "      <td>6</td>\n",
       "      <td>01.12.2010 08:26</td>\n",
       "      <td>3.39</td>\n",
       "      <td>17850.0</td>\n",
       "      <td>United Kingdom</td>\n",
       "      <td>2010</td>\n",
       "      <td>12</td>\n",
       "      <td>20.34</td>\n",
       "    </tr>\n",
       "    <tr>\n",
       "      <th>2</th>\n",
       "      <td>536365</td>\n",
       "      <td>CREAM CUPID HEARTS COAT HANGER</td>\n",
       "      <td>8</td>\n",
       "      <td>01.12.2010 08:26</td>\n",
       "      <td>2.75</td>\n",
       "      <td>17850.0</td>\n",
       "      <td>United Kingdom</td>\n",
       "      <td>2010</td>\n",
       "      <td>12</td>\n",
       "      <td>22.00</td>\n",
       "    </tr>\n",
       "    <tr>\n",
       "      <th>3</th>\n",
       "      <td>536365</td>\n",
       "      <td>KNITTED UNION FLAG HOT WATER BOTTLE</td>\n",
       "      <td>6</td>\n",
       "      <td>01.12.2010 08:26</td>\n",
       "      <td>3.39</td>\n",
       "      <td>17850.0</td>\n",
       "      <td>United Kingdom</td>\n",
       "      <td>2010</td>\n",
       "      <td>12</td>\n",
       "      <td>20.34</td>\n",
       "    </tr>\n",
       "    <tr>\n",
       "      <th>4</th>\n",
       "      <td>536365</td>\n",
       "      <td>RED WOOLLY HOTTIE WHITE HEART.</td>\n",
       "      <td>6</td>\n",
       "      <td>01.12.2010 08:26</td>\n",
       "      <td>3.39</td>\n",
       "      <td>17850.0</td>\n",
       "      <td>United Kingdom</td>\n",
       "      <td>2010</td>\n",
       "      <td>12</td>\n",
       "      <td>20.34</td>\n",
       "    </tr>\n",
       "  </tbody>\n",
       "</table>\n",
       "</div>"
      ],
      "text/plain": [
       "   BillNo                             Itemname  Quantity              Date   \n",
       "0  536365   WHITE HANGING HEART T-LIGHT HOLDER         6  01.12.2010 08:26  \\\n",
       "1  536365                  WHITE METAL LANTERN         6  01.12.2010 08:26   \n",
       "2  536365       CREAM CUPID HEARTS COAT HANGER         8  01.12.2010 08:26   \n",
       "3  536365  KNITTED UNION FLAG HOT WATER BOTTLE         6  01.12.2010 08:26   \n",
       "4  536365       RED WOOLLY HOTTIE WHITE HEART.         6  01.12.2010 08:26   \n",
       "\n",
       "   Price CustomerID         Country  Year Month  Total price  \n",
       "0   2.55    17850.0  United Kingdom  2010    12        15.30  \n",
       "1   3.39    17850.0  United Kingdom  2010    12        20.34  \n",
       "2   2.75    17850.0  United Kingdom  2010    12        22.00  \n",
       "3   3.39    17850.0  United Kingdom  2010    12        20.34  \n",
       "4   3.39    17850.0  United Kingdom  2010    12        20.34  "
      ]
     },
     "execution_count": 57,
     "metadata": {},
     "output_type": "execute_result"
    }
   ],
   "source": [
    "df['Price']=df['Price'].str.replace(',','.').astype('float64')\n",
    "df['Total price']=df.Quantity*df.Price\n",
    "df.head()"
   ]
  },
  {
   "cell_type": "markdown",
   "id": "1d6a6404",
   "metadata": {
    "papermill": {
     "duration": 0.020534,
     "end_time": "2023-07-09T07:35:02.220830",
     "exception": false,
     "start_time": "2023-07-09T07:35:02.200296",
     "status": "completed"
    },
    "tags": []
   },
   "source": [
    "### <b><span style='color:#f0bc22'></span> Checking the **`Total price`** in each month."
   ]
  },
  {
   "cell_type": "code",
   "execution_count": 58,
   "id": "7bf3709f",
   "metadata": {
    "execution": {
     "iopub.execute_input": "2023-07-09T07:35:02.265112Z",
     "iopub.status.busy": "2023-07-09T07:35:02.264393Z",
     "iopub.status.idle": "2023-07-09T07:35:02.390309Z",
     "shell.execute_reply": "2023-07-09T07:35:02.389527Z"
    },
    "papermill": {
     "duration": 0.151235,
     "end_time": "2023-07-09T07:35:02.392928",
     "exception": false,
     "start_time": "2023-07-09T07:35:02.241693",
     "status": "completed"
    },
    "tags": []
   },
   "outputs": [
    {
     "data": {
      "text/plain": [
       "Year  Month\n",
       "2010  12        778386.780\n",
       "2011  01        648311.120\n",
       "      02        490058.230\n",
       "      03        659979.660\n",
       "      04        507366.971\n",
       "      05        721789.800\n",
       "      06        710158.020\n",
       "      07        642528.481\n",
       "      08        701411.420\n",
       "      09        981408.102\n",
       "      10       1072317.070\n",
       "      11       1421055.630\n",
       "      12        606953.650\n",
       "Name: Total price, dtype: float64"
      ]
     },
     "execution_count": 58,
     "metadata": {},
     "output_type": "execute_result"
    }
   ],
   "source": [
    "df.groupby(['Year','Month'])['Total price'].sum()"
   ]
  },
  {
   "cell_type": "markdown",
   "id": "67e7dbba",
   "metadata": {
    "papermill": {
     "duration": 0.021046,
     "end_time": "2023-07-09T07:35:02.434976",
     "exception": false,
     "start_time": "2023-07-09T07:35:02.413930",
     "status": "completed"
    },
    "tags": []
   },
   "source": [
    "It is appropriate to look at 12-month increments to implement data analytics properly, so I'll drop the data for 2020 Dec."
   ]
  },
  {
   "cell_type": "code",
   "execution_count": 59,
   "id": "36d2ea25",
   "metadata": {
    "execution": {
     "iopub.execute_input": "2023-07-09T07:35:02.479404Z",
     "iopub.status.busy": "2023-07-09T07:35:02.478370Z",
     "iopub.status.idle": "2023-07-09T07:35:02.805200Z",
     "shell.execute_reply": "2023-07-09T07:35:02.804157Z"
    },
    "papermill": {
     "duration": 0.351698,
     "end_time": "2023-07-09T07:35:02.807761",
     "exception": false,
     "start_time": "2023-07-09T07:35:02.456063",
     "status": "completed"
    },
    "tags": []
   },
   "outputs": [],
   "source": [
    "df=df.loc[df['Year']!='2010']"
   ]
  },
  {
   "cell_type": "markdown",
   "id": "2bcd7471",
   "metadata": {
    "papermill": {
     "duration": 0.020693,
     "end_time": "2023-07-09T07:35:02.849467",
     "exception": false,
     "start_time": "2023-07-09T07:35:02.828774",
     "status": "completed"
    },
    "tags": []
   },
   "source": [
    "<a id=\"section-two\"></a>\n",
    "## <b><span style='color:#f0bc22'></span> Exploratoty Data Analysis"
   ]
  },
  {
   "cell_type": "markdown",
   "id": "73a042c8",
   "metadata": {
    "papermill": {
     "duration": 0.020695,
     "end_time": "2023-07-09T07:35:02.891195",
     "exception": false,
     "start_time": "2023-07-09T07:35:02.870500",
     "status": "completed"
    },
    "tags": []
   },
   "source": [
    "### <b><span style='color:#f0bc22'></span> Sales amount and quantity"
   ]
  },
  {
   "cell_type": "markdown",
   "id": "ca4c18ec",
   "metadata": {
    "papermill": {
     "duration": 0.021652,
     "end_time": "2023-07-09T07:35:05.938248",
     "exception": false,
     "start_time": "2023-07-09T07:35:05.916596",
     "status": "completed"
    },
    "tags": []
   },
   "source": [
    "Most of the sales amounts are occupied by the UK."
   ]
  },
  {
   "cell_type": "code",
   "execution_count": 60,
   "id": "3f08da62",
   "metadata": {
    "_kg_hide-input": true,
    "execution": {
     "iopub.execute_input": "2023-07-09T07:35:05.984011Z",
     "iopub.status.busy": "2023-07-09T07:35:05.983568Z",
     "iopub.status.idle": "2023-07-09T07:35:06.118099Z",
     "shell.execute_reply": "2023-07-09T07:35:06.116937Z"
    },
    "papermill": {
     "duration": 0.160487,
     "end_time": "2023-07-09T07:35:06.120686",
     "exception": false,
     "start_time": "2023-07-09T07:35:05.960199",
     "status": "completed"
    },
    "tags": []
   },
   "outputs": [
    {
     "data": {
      "application/vnd.plotly.v1+json": {
       "config": {
        "plotlyServerURL": "https://plot.ly"
       },
       "data": [
        {
         "alignmentgroup": "True",
         "hovertemplate": "Country=%{x}<br>Total price=%{y}<extra></extra>",
         "legendgroup": "",
         "marker": {
          "color": "#636efa",
          "pattern": {
           "shape": ""
          }
         },
         "name": "",
         "offsetgroup": "",
         "orientation": "v",
         "showlegend": false,
         "textposition": "auto",
         "type": "bar",
         "x": [
          "Australia",
          "Austria",
          "Bahrain",
          "Belgium",
          "Brazil",
          "France",
          "Germany",
          "Greece",
          "Hong Kong",
          "Iceland",
          "Israel",
          "Italy",
          "Japan",
          "Lebanon",
          "Malta",
          "Netherlands",
          "Norway",
          "Poland",
          "Portugal",
          "RSA",
          "Saudi Arabia",
          "Singapore",
          "Spain",
          "Sweden",
          "Switzerland",
          "USA",
          "United Arab Emirates",
          "United Kingdom",
          "Unspecified"
         ],
         "xaxis": "x",
         "y": [
          137138.46,
          8585.48,
          548.4,
          35327.43,
          1143.6,
          176088.43,
          192290.75,
          4425.52,
          9952.99,
          3598.21,
          8135.26,
          15169.74,
          29711.3,
          1693.88,
          2070.59,
          275134.86,
          28667.52,
          6726.49,
          24967.19,
          1002.31,
          145.92,
          9120.39,
          54021.38,
          33005.03,
          51862.98,
          3580.39,
          1864.78,
          8042609.084,
          4749.79
         ],
         "yaxis": "y"
        }
       ],
       "layout": {
        "barmode": "relative",
        "legend": {
         "tracegroupgap": 0
        },
        "template": {
         "data": {
          "bar": [
           {
            "error_x": {
             "color": "#2a3f5f"
            },
            "error_y": {
             "color": "#2a3f5f"
            },
            "marker": {
             "line": {
              "color": "#E5ECF6",
              "width": 0.5
             },
             "pattern": {
              "fillmode": "overlay",
              "size": 10,
              "solidity": 0.2
             }
            },
            "type": "bar"
           }
          ],
          "barpolar": [
           {
            "marker": {
             "line": {
              "color": "#E5ECF6",
              "width": 0.5
             },
             "pattern": {
              "fillmode": "overlay",
              "size": 10,
              "solidity": 0.2
             }
            },
            "type": "barpolar"
           }
          ],
          "carpet": [
           {
            "aaxis": {
             "endlinecolor": "#2a3f5f",
             "gridcolor": "white",
             "linecolor": "white",
             "minorgridcolor": "white",
             "startlinecolor": "#2a3f5f"
            },
            "baxis": {
             "endlinecolor": "#2a3f5f",
             "gridcolor": "white",
             "linecolor": "white",
             "minorgridcolor": "white",
             "startlinecolor": "#2a3f5f"
            },
            "type": "carpet"
           }
          ],
          "choropleth": [
           {
            "colorbar": {
             "outlinewidth": 0,
             "ticks": ""
            },
            "type": "choropleth"
           }
          ],
          "contour": [
           {
            "colorbar": {
             "outlinewidth": 0,
             "ticks": ""
            },
            "colorscale": [
             [
              0,
              "#0d0887"
             ],
             [
              0.1111111111111111,
              "#46039f"
             ],
             [
              0.2222222222222222,
              "#7201a8"
             ],
             [
              0.3333333333333333,
              "#9c179e"
             ],
             [
              0.4444444444444444,
              "#bd3786"
             ],
             [
              0.5555555555555556,
              "#d8576b"
             ],
             [
              0.6666666666666666,
              "#ed7953"
             ],
             [
              0.7777777777777778,
              "#fb9f3a"
             ],
             [
              0.8888888888888888,
              "#fdca26"
             ],
             [
              1,
              "#f0f921"
             ]
            ],
            "type": "contour"
           }
          ],
          "contourcarpet": [
           {
            "colorbar": {
             "outlinewidth": 0,
             "ticks": ""
            },
            "type": "contourcarpet"
           }
          ],
          "heatmap": [
           {
            "colorbar": {
             "outlinewidth": 0,
             "ticks": ""
            },
            "colorscale": [
             [
              0,
              "#0d0887"
             ],
             [
              0.1111111111111111,
              "#46039f"
             ],
             [
              0.2222222222222222,
              "#7201a8"
             ],
             [
              0.3333333333333333,
              "#9c179e"
             ],
             [
              0.4444444444444444,
              "#bd3786"
             ],
             [
              0.5555555555555556,
              "#d8576b"
             ],
             [
              0.6666666666666666,
              "#ed7953"
             ],
             [
              0.7777777777777778,
              "#fb9f3a"
             ],
             [
              0.8888888888888888,
              "#fdca26"
             ],
             [
              1,
              "#f0f921"
             ]
            ],
            "type": "heatmap"
           }
          ],
          "heatmapgl": [
           {
            "colorbar": {
             "outlinewidth": 0,
             "ticks": ""
            },
            "colorscale": [
             [
              0,
              "#0d0887"
             ],
             [
              0.1111111111111111,
              "#46039f"
             ],
             [
              0.2222222222222222,
              "#7201a8"
             ],
             [
              0.3333333333333333,
              "#9c179e"
             ],
             [
              0.4444444444444444,
              "#bd3786"
             ],
             [
              0.5555555555555556,
              "#d8576b"
             ],
             [
              0.6666666666666666,
              "#ed7953"
             ],
             [
              0.7777777777777778,
              "#fb9f3a"
             ],
             [
              0.8888888888888888,
              "#fdca26"
             ],
             [
              1,
              "#f0f921"
             ]
            ],
            "type": "heatmapgl"
           }
          ],
          "histogram": [
           {
            "marker": {
             "pattern": {
              "fillmode": "overlay",
              "size": 10,
              "solidity": 0.2
             }
            },
            "type": "histogram"
           }
          ],
          "histogram2d": [
           {
            "colorbar": {
             "outlinewidth": 0,
             "ticks": ""
            },
            "colorscale": [
             [
              0,
              "#0d0887"
             ],
             [
              0.1111111111111111,
              "#46039f"
             ],
             [
              0.2222222222222222,
              "#7201a8"
             ],
             [
              0.3333333333333333,
              "#9c179e"
             ],
             [
              0.4444444444444444,
              "#bd3786"
             ],
             [
              0.5555555555555556,
              "#d8576b"
             ],
             [
              0.6666666666666666,
              "#ed7953"
             ],
             [
              0.7777777777777778,
              "#fb9f3a"
             ],
             [
              0.8888888888888888,
              "#fdca26"
             ],
             [
              1,
              "#f0f921"
             ]
            ],
            "type": "histogram2d"
           }
          ],
          "histogram2dcontour": [
           {
            "colorbar": {
             "outlinewidth": 0,
             "ticks": ""
            },
            "colorscale": [
             [
              0,
              "#0d0887"
             ],
             [
              0.1111111111111111,
              "#46039f"
             ],
             [
              0.2222222222222222,
              "#7201a8"
             ],
             [
              0.3333333333333333,
              "#9c179e"
             ],
             [
              0.4444444444444444,
              "#bd3786"
             ],
             [
              0.5555555555555556,
              "#d8576b"
             ],
             [
              0.6666666666666666,
              "#ed7953"
             ],
             [
              0.7777777777777778,
              "#fb9f3a"
             ],
             [
              0.8888888888888888,
              "#fdca26"
             ],
             [
              1,
              "#f0f921"
             ]
            ],
            "type": "histogram2dcontour"
           }
          ],
          "mesh3d": [
           {
            "colorbar": {
             "outlinewidth": 0,
             "ticks": ""
            },
            "type": "mesh3d"
           }
          ],
          "parcoords": [
           {
            "line": {
             "colorbar": {
              "outlinewidth": 0,
              "ticks": ""
             }
            },
            "type": "parcoords"
           }
          ],
          "pie": [
           {
            "automargin": true,
            "type": "pie"
           }
          ],
          "scatter": [
           {
            "fillpattern": {
             "fillmode": "overlay",
             "size": 10,
             "solidity": 0.2
            },
            "type": "scatter"
           }
          ],
          "scatter3d": [
           {
            "line": {
             "colorbar": {
              "outlinewidth": 0,
              "ticks": ""
             }
            },
            "marker": {
             "colorbar": {
              "outlinewidth": 0,
              "ticks": ""
             }
            },
            "type": "scatter3d"
           }
          ],
          "scattercarpet": [
           {
            "marker": {
             "colorbar": {
              "outlinewidth": 0,
              "ticks": ""
             }
            },
            "type": "scattercarpet"
           }
          ],
          "scattergeo": [
           {
            "marker": {
             "colorbar": {
              "outlinewidth": 0,
              "ticks": ""
             }
            },
            "type": "scattergeo"
           }
          ],
          "scattergl": [
           {
            "marker": {
             "colorbar": {
              "outlinewidth": 0,
              "ticks": ""
             }
            },
            "type": "scattergl"
           }
          ],
          "scattermapbox": [
           {
            "marker": {
             "colorbar": {
              "outlinewidth": 0,
              "ticks": ""
             }
            },
            "type": "scattermapbox"
           }
          ],
          "scatterpolar": [
           {
            "marker": {
             "colorbar": {
              "outlinewidth": 0,
              "ticks": ""
             }
            },
            "type": "scatterpolar"
           }
          ],
          "scatterpolargl": [
           {
            "marker": {
             "colorbar": {
              "outlinewidth": 0,
              "ticks": ""
             }
            },
            "type": "scatterpolargl"
           }
          ],
          "scatterternary": [
           {
            "marker": {
             "colorbar": {
              "outlinewidth": 0,
              "ticks": ""
             }
            },
            "type": "scatterternary"
           }
          ],
          "surface": [
           {
            "colorbar": {
             "outlinewidth": 0,
             "ticks": ""
            },
            "colorscale": [
             [
              0,
              "#0d0887"
             ],
             [
              0.1111111111111111,
              "#46039f"
             ],
             [
              0.2222222222222222,
              "#7201a8"
             ],
             [
              0.3333333333333333,
              "#9c179e"
             ],
             [
              0.4444444444444444,
              "#bd3786"
             ],
             [
              0.5555555555555556,
              "#d8576b"
             ],
             [
              0.6666666666666666,
              "#ed7953"
             ],
             [
              0.7777777777777778,
              "#fb9f3a"
             ],
             [
              0.8888888888888888,
              "#fdca26"
             ],
             [
              1,
              "#f0f921"
             ]
            ],
            "type": "surface"
           }
          ],
          "table": [
           {
            "cells": {
             "fill": {
              "color": "#EBF0F8"
             },
             "line": {
              "color": "white"
             }
            },
            "header": {
             "fill": {
              "color": "#C8D4E3"
             },
             "line": {
              "color": "white"
             }
            },
            "type": "table"
           }
          ]
         },
         "layout": {
          "annotationdefaults": {
           "arrowcolor": "#2a3f5f",
           "arrowhead": 0,
           "arrowwidth": 1
          },
          "autotypenumbers": "strict",
          "coloraxis": {
           "colorbar": {
            "outlinewidth": 0,
            "ticks": ""
           }
          },
          "colorscale": {
           "diverging": [
            [
             0,
             "#8e0152"
            ],
            [
             0.1,
             "#c51b7d"
            ],
            [
             0.2,
             "#de77ae"
            ],
            [
             0.3,
             "#f1b6da"
            ],
            [
             0.4,
             "#fde0ef"
            ],
            [
             0.5,
             "#f7f7f7"
            ],
            [
             0.6,
             "#e6f5d0"
            ],
            [
             0.7,
             "#b8e186"
            ],
            [
             0.8,
             "#7fbc41"
            ],
            [
             0.9,
             "#4d9221"
            ],
            [
             1,
             "#276419"
            ]
           ],
           "sequential": [
            [
             0,
             "#0d0887"
            ],
            [
             0.1111111111111111,
             "#46039f"
            ],
            [
             0.2222222222222222,
             "#7201a8"
            ],
            [
             0.3333333333333333,
             "#9c179e"
            ],
            [
             0.4444444444444444,
             "#bd3786"
            ],
            [
             0.5555555555555556,
             "#d8576b"
            ],
            [
             0.6666666666666666,
             "#ed7953"
            ],
            [
             0.7777777777777778,
             "#fb9f3a"
            ],
            [
             0.8888888888888888,
             "#fdca26"
            ],
            [
             1,
             "#f0f921"
            ]
           ],
           "sequentialminus": [
            [
             0,
             "#0d0887"
            ],
            [
             0.1111111111111111,
             "#46039f"
            ],
            [
             0.2222222222222222,
             "#7201a8"
            ],
            [
             0.3333333333333333,
             "#9c179e"
            ],
            [
             0.4444444444444444,
             "#bd3786"
            ],
            [
             0.5555555555555556,
             "#d8576b"
            ],
            [
             0.6666666666666666,
             "#ed7953"
            ],
            [
             0.7777777777777778,
             "#fb9f3a"
            ],
            [
             0.8888888888888888,
             "#fdca26"
            ],
            [
             1,
             "#f0f921"
            ]
           ]
          },
          "colorway": [
           "#636efa",
           "#EF553B",
           "#00cc96",
           "#ab63fa",
           "#FFA15A",
           "#19d3f3",
           "#FF6692",
           "#B6E880",
           "#FF97FF",
           "#FECB52"
          ],
          "font": {
           "color": "#2a3f5f"
          },
          "geo": {
           "bgcolor": "white",
           "lakecolor": "white",
           "landcolor": "#E5ECF6",
           "showlakes": true,
           "showland": true,
           "subunitcolor": "white"
          },
          "hoverlabel": {
           "align": "left"
          },
          "hovermode": "closest",
          "mapbox": {
           "style": "light"
          },
          "paper_bgcolor": "white",
          "plot_bgcolor": "#E5ECF6",
          "polar": {
           "angularaxis": {
            "gridcolor": "white",
            "linecolor": "white",
            "ticks": ""
           },
           "bgcolor": "#E5ECF6",
           "radialaxis": {
            "gridcolor": "white",
            "linecolor": "white",
            "ticks": ""
           }
          },
          "scene": {
           "xaxis": {
            "backgroundcolor": "#E5ECF6",
            "gridcolor": "white",
            "gridwidth": 2,
            "linecolor": "white",
            "showbackground": true,
            "ticks": "",
            "zerolinecolor": "white"
           },
           "yaxis": {
            "backgroundcolor": "#E5ECF6",
            "gridcolor": "white",
            "gridwidth": 2,
            "linecolor": "white",
            "showbackground": true,
            "ticks": "",
            "zerolinecolor": "white"
           },
           "zaxis": {
            "backgroundcolor": "#E5ECF6",
            "gridcolor": "white",
            "gridwidth": 2,
            "linecolor": "white",
            "showbackground": true,
            "ticks": "",
            "zerolinecolor": "white"
           }
          },
          "shapedefaults": {
           "line": {
            "color": "#2a3f5f"
           }
          },
          "ternary": {
           "aaxis": {
            "gridcolor": "white",
            "linecolor": "white",
            "ticks": ""
           },
           "baxis": {
            "gridcolor": "white",
            "linecolor": "white",
            "ticks": ""
           },
           "bgcolor": "#E5ECF6",
           "caxis": {
            "gridcolor": "white",
            "linecolor": "white",
            "ticks": ""
           }
          },
          "title": {
           "x": 0.05
          },
          "xaxis": {
           "automargin": true,
           "gridcolor": "white",
           "linecolor": "white",
           "ticks": "",
           "title": {
            "standoff": 15
           },
           "zerolinecolor": "white",
           "zerolinewidth": 2
          },
          "yaxis": {
           "automargin": true,
           "gridcolor": "white",
           "linecolor": "white",
           "ticks": "",
           "title": {
            "standoff": 15
           },
           "zerolinecolor": "white",
           "zerolinewidth": 2
          }
         }
        },
        "title": {
         "text": "Sales amount in each country in 2021"
        },
        "xaxis": {
         "anchor": "y",
         "categoryorder": "total descending",
         "domain": [
          0,
          1
         ],
         "title": {
          "text": "Country"
         }
        },
        "yaxis": {
         "anchor": "x",
         "domain": [
          0,
          1
         ],
         "title": {
          "text": "Sales amount"
         }
        }
       }
      }
     },
     "metadata": {},
     "output_type": "display_data"
    }
   ],
   "source": [
    "country=df.groupby('Country')['Total price'].sum()\n",
    "country.to_csv('country.csv')\n",
    "country=pd.read_csv('country.csv')\n",
    "\n",
    "fig=px.bar(country,x='Country',y='Total price',title='Sales amount in each country in 2021')\n",
    "fig.update_layout(xaxis={'categoryorder':'total descending'},yaxis_title='Sales amount')\n",
    "fig.show()"
   ]
  },
  {
   "cell_type": "markdown",
   "id": "595c20fa",
   "metadata": {
    "papermill": {
     "duration": 0.022058,
     "end_time": "2023-07-09T07:35:06.166084",
     "exception": false,
     "start_time": "2023-07-09T07:35:06.144026",
     "status": "completed"
    },
    "tags": []
   },
   "source": [
    "### <b><span style='color:#f0bc22'></span> Category"
   ]
  },
  {
   "cell_type": "markdown",
   "id": "34c5a9b9",
   "metadata": {
    "papermill": {
     "duration": 0.021996,
     "end_time": "2023-07-09T07:35:06.210355",
     "exception": false,
     "start_time": "2023-07-09T07:35:06.188359",
     "status": "completed"
    },
    "tags": []
   },
   "source": [
    "> ### Top 10 highest sales amount items"
   ]
  },
  {
   "cell_type": "code",
   "execution_count": 61,
   "id": "8d5ec983",
   "metadata": {
    "_kg_hide-input": true,
    "execution": {
     "iopub.execute_input": "2023-07-09T07:35:06.257254Z",
     "iopub.status.busy": "2023-07-09T07:35:06.256827Z",
     "iopub.status.idle": "2023-07-09T07:35:06.438411Z",
     "shell.execute_reply": "2023-07-09T07:35:06.437186Z"
    },
    "papermill": {
     "duration": 0.208264,
     "end_time": "2023-07-09T07:35:06.441059",
     "exception": false,
     "start_time": "2023-07-09T07:35:06.232795",
     "status": "completed"
    },
    "tags": []
   },
   "outputs": [
    {
     "data": {
      "text/html": [
       "<style type=\"text/css\">\n",
       "#T_372af_row0_col1 {\n",
       "  background-color: #008000;\n",
       "  color: #f1f1f1;\n",
       "}\n",
       "#T_372af_row1_col1 {\n",
       "  background-color: #c0dec0;\n",
       "  color: #000000;\n",
       "}\n",
       "#T_372af_row2_col1 {\n",
       "  background-color: #d7e9d7;\n",
       "  color: #000000;\n",
       "}\n",
       "#T_372af_row3_col1 {\n",
       "  background-color: #e0eee0;\n",
       "  color: #000000;\n",
       "}\n",
       "#T_372af_row4_col1 {\n",
       "  background-color: #e2efe2;\n",
       "  color: #000000;\n",
       "}\n",
       "#T_372af_row5_col1, #T_372af_row6_col1 {\n",
       "  background-color: #e4f0e4;\n",
       "  color: #000000;\n",
       "}\n",
       "#T_372af_row7_col1 {\n",
       "  background-color: #e7f1e7;\n",
       "  color: #000000;\n",
       "}\n",
       "#T_372af_row8_col1 {\n",
       "  background-color: #e8f2e8;\n",
       "  color: #000000;\n",
       "}\n",
       "#T_372af_row9_col1 {\n",
       "  background-color: #ebf3eb;\n",
       "  color: #000000;\n",
       "}\n",
       "</style>\n",
       "<table id=\"T_372af\">\n",
       "  <thead>\n",
       "    <tr>\n",
       "      <th class=\"blank level0\" >&nbsp;</th>\n",
       "      <th id=\"T_372af_level0_col0\" class=\"col_heading level0 col0\" >Itemname</th>\n",
       "      <th id=\"T_372af_level0_col1\" class=\"col_heading level0 col1\" >Price</th>\n",
       "    </tr>\n",
       "  </thead>\n",
       "  <tbody>\n",
       "    <tr>\n",
       "      <th id=\"T_372af_level0_row0\" class=\"row_heading level0 row0\" >0</th>\n",
       "      <td id=\"T_372af_row0_col0\" class=\"data row0 col0\" >REGENCY CAKESTAND 3 TIER</td>\n",
       "      <td id=\"T_372af_row0_col1\" class=\"data row0 col1\" >24653.670000</td>\n",
       "    </tr>\n",
       "    <tr>\n",
       "      <th id=\"T_372af_level0_row1\" class=\"row_heading level0 row1\" >1</th>\n",
       "      <td id=\"T_372af_row1_col0\" class=\"data row1 col0\" >PARTY BUNTING</td>\n",
       "      <td id=\"T_372af_row1_col1\" class=\"data row1 col1\" >9416.130000</td>\n",
       "    </tr>\n",
       "    <tr>\n",
       "      <th id=\"T_372af_level0_row2\" class=\"row_heading level0 row2\" >2</th>\n",
       "      <td id=\"T_372af_row2_col0\" class=\"data row2 col0\" >SET OF 3 CAKE TINS PANTRY DESIGN</td>\n",
       "      <td id=\"T_372af_row2_col1\" class=\"data row2 col1\" >7621.050000</td>\n",
       "    </tr>\n",
       "    <tr>\n",
       "      <th id=\"T_372af_level0_row3\" class=\"row_heading level0 row3\" >3</th>\n",
       "      <td id=\"T_372af_row3_col0\" class=\"data row3 col0\" >CREAM SWEETHEART MINI CHEST</td>\n",
       "      <td id=\"T_372af_row3_col1\" class=\"data row3 col1\" >6836.380000</td>\n",
       "    </tr>\n",
       "    <tr>\n",
       "      <th id=\"T_372af_level0_row4\" class=\"row_heading level0 row4\" >4</th>\n",
       "      <td id=\"T_372af_row4_col0\" class=\"data row4 col0\" >SET/4 WHITE RETRO STORAGE CUBES</td>\n",
       "      <td id=\"T_372af_row4_col1\" class=\"data row4 col1\" >6714.750000</td>\n",
       "    </tr>\n",
       "    <tr>\n",
       "      <th id=\"T_372af_level0_row5\" class=\"row_heading level0 row5\" >5</th>\n",
       "      <td id=\"T_372af_row5_col0\" class=\"data row5 col0\" >ENAMEL BREAD BIN CREAM</td>\n",
       "      <td id=\"T_372af_row5_col1\" class=\"data row5 col1\" >6585.930000</td>\n",
       "    </tr>\n",
       "    <tr>\n",
       "      <th id=\"T_372af_level0_row6\" class=\"row_heading level0 row6\" >6</th>\n",
       "      <td id=\"T_372af_row6_col0\" class=\"data row6 col0\" >WHITE HANGING HEART T-LIGHT HOLDER</td>\n",
       "      <td id=\"T_372af_row6_col1\" class=\"data row6 col1\" >6563.800000</td>\n",
       "    </tr>\n",
       "    <tr>\n",
       "      <th id=\"T_372af_level0_row7\" class=\"row_heading level0 row7\" >7</th>\n",
       "      <td id=\"T_372af_row7_col0\" class=\"data row7 col0\" >DOORMAT KEEP CALM AND COME IN</td>\n",
       "      <td id=\"T_372af_row7_col1\" class=\"data row7 col1\" >6385.090000</td>\n",
       "    </tr>\n",
       "    <tr>\n",
       "      <th id=\"T_372af_level0_row8\" class=\"row_heading level0 row8\" >8</th>\n",
       "      <td id=\"T_372af_row8_col0\" class=\"data row8 col0\" >SPOTTY BUNTING</td>\n",
       "      <td id=\"T_372af_row8_col1\" class=\"data row8 col1\" >6262.400000</td>\n",
       "    </tr>\n",
       "    <tr>\n",
       "      <th id=\"T_372af_level0_row9\" class=\"row_heading level0 row9\" >9</th>\n",
       "      <td id=\"T_372af_row9_col0\" class=\"data row9 col0\" >RED RETROSPOT CAKE STAND</td>\n",
       "      <td id=\"T_372af_row9_col1\" class=\"data row9 col1\" >6035.290000</td>\n",
       "    </tr>\n",
       "  </tbody>\n",
       "</table>\n"
      ],
      "text/plain": [
       "<pandas.io.formats.style.Styler at 0x2239250d710>"
      ]
     },
     "execution_count": 61,
     "metadata": {},
     "output_type": "execute_result"
    }
   ],
   "source": [
    "cm=sns.light_palette(\"green\",as_cmap=True)\n",
    "\n",
    "item_sales=df.groupby('Itemname')['Price'].sum().sort_values(ascending=False)[:10]\n",
    "item_sales.to_csv('item_sales.csv')\n",
    "item_sales=pd.read_csv('item_sales.csv')\n",
    "item_sales.style.background_gradient(cmap=cm)"
   ]
  },
  {
   "cell_type": "markdown",
   "id": "4cc18c30",
   "metadata": {
    "papermill": {
     "duration": 0.02227,
     "end_time": "2023-07-09T07:35:06.486107",
     "exception": false,
     "start_time": "2023-07-09T07:35:06.463837",
     "status": "completed"
    },
    "tags": []
   },
   "source": [
    "> ### Top 10 most purchased items"
   ]
  },
  {
   "cell_type": "code",
   "execution_count": 62,
   "id": "a2acbba2",
   "metadata": {
    "_kg_hide-input": true,
    "execution": {
     "iopub.execute_input": "2023-07-09T07:35:06.533245Z",
     "iopub.status.busy": "2023-07-09T07:35:06.532791Z",
     "iopub.status.idle": "2023-07-09T07:35:06.638395Z",
     "shell.execute_reply": "2023-07-09T07:35:06.637260Z"
    },
    "papermill": {
     "duration": 0.132439,
     "end_time": "2023-07-09T07:35:06.641000",
     "exception": false,
     "start_time": "2023-07-09T07:35:06.508561",
     "status": "completed"
    },
    "tags": []
   },
   "outputs": [
    {
     "data": {
      "text/html": [
       "<style type=\"text/css\">\n",
       "#T_f8ac7_row0_col1 {\n",
       "  background-color: #008000;\n",
       "  color: #f1f1f1;\n",
       "}\n",
       "#T_f8ac7_row1_col1 {\n",
       "  background-color: #148a14;\n",
       "  color: #f1f1f1;\n",
       "}\n",
       "#T_f8ac7_row2_col1 {\n",
       "  background-color: #e5f0e5;\n",
       "  color: #000000;\n",
       "}\n",
       "#T_f8ac7_row3_col1 {\n",
       "  background-color: #e7f1e7;\n",
       "  color: #000000;\n",
       "}\n",
       "#T_f8ac7_row4_col1 {\n",
       "  background-color: #e8f2e8;\n",
       "  color: #000000;\n",
       "}\n",
       "#T_f8ac7_row5_col1 {\n",
       "  background-color: #eaf2ea;\n",
       "  color: #000000;\n",
       "}\n",
       "#T_f8ac7_row6_col1, #T_f8ac7_row7_col1, #T_f8ac7_row8_col1, #T_f8ac7_row9_col1 {\n",
       "  background-color: #ebf3eb;\n",
       "  color: #000000;\n",
       "}\n",
       "</style>\n",
       "<table id=\"T_f8ac7\">\n",
       "  <thead>\n",
       "    <tr>\n",
       "      <th class=\"blank level0\" >&nbsp;</th>\n",
       "      <th id=\"T_f8ac7_level0_col0\" class=\"col_heading level0 col0\" >Itemname</th>\n",
       "      <th id=\"T_f8ac7_level0_col1\" class=\"col_heading level0 col1\" >Quantity</th>\n",
       "    </tr>\n",
       "  </thead>\n",
       "  <tbody>\n",
       "    <tr>\n",
       "      <th id=\"T_f8ac7_level0_row0\" class=\"row_heading level0 row0\" >520583</th>\n",
       "      <td id=\"T_f8ac7_row0_col0\" class=\"data row0 col0\" >PAPER CRAFT , LITTLE BIRDIE</td>\n",
       "      <td id=\"T_f8ac7_row0_col1\" class=\"data row0 col1\" >80995</td>\n",
       "    </tr>\n",
       "    <tr>\n",
       "      <th id=\"T_f8ac7_level0_row1\" class=\"row_heading level0 row1\" >59999</th>\n",
       "      <td id=\"T_f8ac7_row1_col0\" class=\"data row1 col0\" >MEDIUM CERAMIC TOP STORAGE JAR</td>\n",
       "      <td id=\"T_f8ac7_row1_col1\" class=\"data row1 col1\" >74215</td>\n",
       "    </tr>\n",
       "    <tr>\n",
       "      <th id=\"T_f8ac7_level0_row2\" class=\"row_heading level0 row2\" >405138</th>\n",
       "      <td id=\"T_f8ac7_row2_col0\" class=\"data row2 col0\" >WORLD WAR 2 GLIDERS ASSTD DESIGNS</td>\n",
       "      <td id=\"T_f8ac7_row2_col1\" class=\"data row2 col1\" >4800</td>\n",
       "    </tr>\n",
       "    <tr>\n",
       "      <th id=\"T_f8ac7_level0_row3\" class=\"row_heading level0 row3\" >198929</th>\n",
       "      <td id=\"T_f8ac7_row3_col0\" class=\"data row3 col0\" >SMALL POPCORN HOLDER</td>\n",
       "      <td id=\"T_f8ac7_row3_col1\" class=\"data row3 col1\" >4300</td>\n",
       "    </tr>\n",
       "    <tr>\n",
       "      <th id=\"T_f8ac7_level0_row4\" class=\"row_heading level0 row4\" >94245</th>\n",
       "      <td id=\"T_f8ac7_row4_col0\" class=\"data row4 col0\" >EMPIRE DESIGN ROSETTE</td>\n",
       "      <td id=\"T_f8ac7_row4_col1\" class=\"data row4 col1\" >3906</td>\n",
       "    </tr>\n",
       "    <tr>\n",
       "      <th id=\"T_f8ac7_level0_row5\" class=\"row_heading level0 row5\" >260928</th>\n",
       "      <td id=\"T_f8ac7_row5_col0\" class=\"data row5 col0\" >ESSENTIAL BALM 3.5g TIN IN ENVELOPE</td>\n",
       "      <td id=\"T_f8ac7_row5_col1\" class=\"data row5 col1\" >3186</td>\n",
       "    </tr>\n",
       "    <tr>\n",
       "      <th id=\"T_f8ac7_level0_row6\" class=\"row_heading level0 row6\" >51228</th>\n",
       "      <td id=\"T_f8ac7_row6_col0\" class=\"data row6 col0\" >FAIRY CAKE FLANNEL ASSORTED COLOUR</td>\n",
       "      <td id=\"T_f8ac7_row6_col1\" class=\"data row6 col1\" >3114</td>\n",
       "    </tr>\n",
       "    <tr>\n",
       "      <th id=\"T_f8ac7_level0_row7\" class=\"row_heading level0 row7\" >154834</th>\n",
       "      <td id=\"T_f8ac7_row7_col0\" class=\"data row7 col0\" >FAIRY CAKE FLANNEL ASSORTED COLOUR</td>\n",
       "      <td id=\"T_f8ac7_row7_col1\" class=\"data row7 col1\" >3114</td>\n",
       "    </tr>\n",
       "    <tr>\n",
       "      <th id=\"T_f8ac7_level0_row8\" class=\"row_heading level0 row8\" >416997</th>\n",
       "      <td id=\"T_f8ac7_row8_col0\" class=\"data row8 col0\" >SMALL CHINESE STYLE SCISSOR</td>\n",
       "      <td id=\"T_f8ac7_row8_col1\" class=\"data row8 col1\" >3000</td>\n",
       "    </tr>\n",
       "    <tr>\n",
       "      <th id=\"T_f8ac7_level0_row9\" class=\"row_heading level0 row9\" >280572</th>\n",
       "      <td id=\"T_f8ac7_row9_col0\" class=\"data row9 col0\" >ASSORTED COLOUR BIRD ORNAMENT</td>\n",
       "      <td id=\"T_f8ac7_row9_col1\" class=\"data row9 col1\" >2880</td>\n",
       "    </tr>\n",
       "  </tbody>\n",
       "</table>\n"
      ],
      "text/plain": [
       "<pandas.io.formats.style.Styler at 0x2239255e9d0>"
      ]
     },
     "execution_count": 62,
     "metadata": {},
     "output_type": "execute_result"
    }
   ],
   "source": [
    "df[['Itemname','Quantity']].sort_values(by='Quantity',ascending=False)[:10].style.background_gradient(cmap=cm)"
   ]
  },
  {
   "cell_type": "markdown",
   "id": "97bb71f8",
   "metadata": {
    "papermill": {
     "duration": 0.022444,
     "end_time": "2023-07-09T07:35:06.686334",
     "exception": false,
     "start_time": "2023-07-09T07:35:06.663890",
     "status": "completed"
    },
    "tags": []
   },
   "source": [
    "> ### Top 10 most frequently purchased items "
   ]
  },
  {
   "cell_type": "code",
   "execution_count": 63,
   "id": "222a4b94",
   "metadata": {
    "_kg_hide-input": true,
    "execution": {
     "iopub.execute_input": "2023-07-09T07:35:06.733637Z",
     "iopub.status.busy": "2023-07-09T07:35:06.733267Z",
     "iopub.status.idle": "2023-07-09T07:35:07.117822Z",
     "shell.execute_reply": "2023-07-09T07:35:07.116899Z"
    },
    "papermill": {
     "duration": 0.411177,
     "end_time": "2023-07-09T07:35:07.120212",
     "exception": false,
     "start_time": "2023-07-09T07:35:06.709035",
     "status": "completed"
    },
    "tags": []
   },
   "outputs": [
    {
     "data": {
      "image/png": "[encoded data removed]",
      "text/plain": [
       "<Figure size 600x300 with 1 Axes>"
      ]
     },
     "metadata": {},
     "output_type": "display_data"
    }
   ],
   "source": [
    "color=plt.cm.rainbow(np.linspace(0,1,30))\n",
    "df['Itemname'].value_counts().head(10).plot.bar(color=color,figsize=(6,3))\n",
    "# plt.title('Frequency of Most popular items',fontsize=14)\n",
    "plt.xticks(rotation=90,fontsize=8)\n",
    "plt.grid()\n",
    "plt.show()"
   ]
  },
  {
   "cell_type": "markdown",
   "id": "b72cbc06",
   "metadata": {
    "papermill": {
     "duration": 0.024206,
     "end_time": "2023-07-09T07:35:07.170668",
     "exception": false,
     "start_time": "2023-07-09T07:35:07.146462",
     "status": "completed"
    },
    "tags": []
   },
   "source": [
    "<a id=\"section-three\"></a>\n",
    "## <b><span style='color:#f0bc22'></span> Market Basket Analysis"
   ]
  },
  {
   "cell_type": "markdown",
   "id": "b72221a5",
   "metadata": {
    "papermill": {
     "duration": 0.023359,
     "end_time": "2023-07-09T07:35:07.217889",
     "exception": false,
     "start_time": "2023-07-09T07:35:07.194530",
     "status": "completed"
    },
    "tags": []
   },
   "source": [
    "Since the UK is the most purchased country, let insight into the item combination purchased in the UK."
   ]
  },
  {
   "cell_type": "markdown",
   "id": "96b5bdc3",
   "metadata": {
    "papermill": {
     "duration": 0.023243,
     "end_time": "2023-07-09T07:35:07.264932",
     "exception": false,
     "start_time": "2023-07-09T07:35:07.241689",
     "status": "completed"
    },
    "tags": []
   },
   "source": [
    "### <b><span style='color:#f0bc22'></span> Implementing Apriori"
   ]
  },
  {
   "cell_type": "code",
   "execution_count": 64,
   "id": "50e575ed",
   "metadata": {
    "_kg_hide-input": true,
    "execution": {
     "iopub.execute_input": "2023-07-09T07:35:07.314460Z",
     "iopub.status.busy": "2023-07-09T07:35:07.313449Z",
     "iopub.status.idle": "2023-07-09T07:35:07.332442Z",
     "shell.execute_reply": "2023-07-09T07:35:07.331362Z"
    },
    "papermill": {
     "duration": 0.046309,
     "end_time": "2023-07-09T07:35:07.334904",
     "exception": false,
     "start_time": "2023-07-09T07:35:07.288595",
     "status": "completed"
    },
    "tags": []
   },
   "outputs": [],
   "source": [
    "from mlxtend.frequent_patterns import apriori\n",
    "from mlxtend.frequent_patterns import association_rules"
   ]
  },
  {
   "cell_type": "code",
   "execution_count": 65,
   "id": "609b1852",
   "metadata": {
    "_kg_hide-input": true,
    "execution": {
     "iopub.execute_input": "2023-07-09T07:35:07.384208Z",
     "iopub.status.busy": "2023-07-09T07:35:07.383432Z",
     "iopub.status.idle": "2023-07-09T07:35:07.793446Z",
     "shell.execute_reply": "2023-07-09T07:35:07.792265Z"
    },
    "papermill": {
     "duration": 0.437694,
     "end_time": "2023-07-09T07:35:07.796370",
     "exception": false,
     "start_time": "2023-07-09T07:35:07.358676",
     "status": "completed"
    },
    "tags": []
   },
   "outputs": [],
   "source": [
    "df['Itemname']=df['Itemname'].str.strip()\n",
    "df['BillNo']=df['BillNo'].astype('str')"
   ]
  },
  {
   "cell_type": "code",
   "execution_count": 66,
   "id": "d49ca4b9",
   "metadata": {
    "_kg_hide-input": true,
    "execution": {
     "iopub.execute_input": "2023-07-09T07:35:07.846246Z",
     "iopub.status.busy": "2023-07-09T07:35:07.845508Z",
     "iopub.status.idle": "2023-07-09T07:35:09.780376Z",
     "shell.execute_reply": "2023-07-09T07:35:09.779242Z"
    },
    "papermill": {
     "duration": 1.963233,
     "end_time": "2023-07-09T07:35:09.783228",
     "exception": false,
     "start_time": "2023-07-09T07:35:07.819995",
     "status": "completed"
    },
    "tags": []
   },
   "outputs": [],
   "source": [
    "basket=(df[df['Country']=='United Kingdom']\n",
    "        .groupby(['BillNo','Itemname'])['Quantity']\n",
    "        .sum().unstack().reset_index().fillna(0)\n",
    "        .set_index('BillNo'))"
   ]
  },
  {
   "cell_type": "code",
   "execution_count": 67,
   "id": "33f1cbfb",
   "metadata": {
    "_kg_hide-input": true,
    "execution": {
     "iopub.execute_input": "2023-07-09T07:35:09.834306Z",
     "iopub.status.busy": "2023-07-09T07:35:09.833532Z",
     "iopub.status.idle": "2023-07-09T07:35:09.866976Z",
     "shell.execute_reply": "2023-07-09T07:35:09.865805Z"
    },
    "papermill": {
     "duration": 0.061898,
     "end_time": "2023-07-09T07:35:09.869550",
     "exception": false,
     "start_time": "2023-07-09T07:35:09.807652",
     "status": "completed"
    },
    "tags": []
   },
   "outputs": [
    {
     "data": {
      "text/html": [
       "<div>\n",
       "<style scoped>\n",
       "    .dataframe tbody tr th:only-of-type {\n",
       "        vertical-align: middle;\n",
       "    }\n",
       "\n",
       "    .dataframe tbody tr th {\n",
       "        vertical-align: top;\n",
       "    }\n",
       "\n",
       "    .dataframe thead th {\n",
       "        text-align: right;\n",
       "    }\n",
       "</style>\n",
       "<table border=\"1\" class=\"dataframe\">\n",
       "  <thead>\n",
       "    <tr style=\"text-align: right;\">\n",
       "      <th>Itemname</th>\n",
       "      <th>10 COLOUR SPACEBOY PEN</th>\n",
       "      <th>12 COLOURED PARTY BALLOONS</th>\n",
       "      <th>12 DAISY PEGS IN WOOD BOX</th>\n",
       "      <th>12 EGG HOUSE PAINTED WOOD</th>\n",
       "      <th>12 HANGING EGGS HAND PAINTED</th>\n",
       "      <th>12 IVORY ROSE PEG PLACE SETTINGS</th>\n",
       "      <th>12 MESSAGE CARDS WITH ENVELOPES</th>\n",
       "      <th>12 PENCIL SMALL TUBE WOODLAND</th>\n",
       "      <th>12 PENCILS SMALL TUBE RED RETROSPOT</th>\n",
       "      <th>12 PENCILS SMALL TUBE SKULL</th>\n",
       "      <th>...</th>\n",
       "      <th>ZINC STAR T-LIGHT HOLDER</th>\n",
       "      <th>ZINC SWEETHEART SOAP DISH</th>\n",
       "      <th>ZINC SWEETHEART WIRE LETTER RACK</th>\n",
       "      <th>ZINC T-LIGHT HOLDER STAR LARGE</th>\n",
       "      <th>ZINC T-LIGHT HOLDER STARS LARGE</th>\n",
       "      <th>ZINC T-LIGHT HOLDER STARS SMALL</th>\n",
       "      <th>ZINC TOP  2 DOOR WOODEN SHELF</th>\n",
       "      <th>ZINC WILLIE WINKIE  CANDLE STICK</th>\n",
       "      <th>ZINC WIRE KITCHEN ORGANISER</th>\n",
       "      <th>ZINC WIRE SWEETHEART LETTER TRAY</th>\n",
       "    </tr>\n",
       "    <tr>\n",
       "      <th>BillNo</th>\n",
       "      <th></th>\n",
       "      <th></th>\n",
       "      <th></th>\n",
       "      <th></th>\n",
       "      <th></th>\n",
       "      <th></th>\n",
       "      <th></th>\n",
       "      <th></th>\n",
       "      <th></th>\n",
       "      <th></th>\n",
       "      <th></th>\n",
       "      <th></th>\n",
       "      <th></th>\n",
       "      <th></th>\n",
       "      <th></th>\n",
       "      <th></th>\n",
       "      <th></th>\n",
       "      <th></th>\n",
       "      <th></th>\n",
       "      <th></th>\n",
       "      <th></th>\n",
       "    </tr>\n",
       "  </thead>\n",
       "  <tbody>\n",
       "    <tr>\n",
       "      <th>539993</th>\n",
       "      <td>0.0</td>\n",
       "      <td>0.0</td>\n",
       "      <td>0.0</td>\n",
       "      <td>0.0</td>\n",
       "      <td>0.0</td>\n",
       "      <td>0.0</td>\n",
       "      <td>0.0</td>\n",
       "      <td>0.0</td>\n",
       "      <td>0.0</td>\n",
       "      <td>0.0</td>\n",
       "      <td>...</td>\n",
       "      <td>0.0</td>\n",
       "      <td>0.0</td>\n",
       "      <td>0.0</td>\n",
       "      <td>0.0</td>\n",
       "      <td>0.0</td>\n",
       "      <td>0.0</td>\n",
       "      <td>0.0</td>\n",
       "      <td>0.0</td>\n",
       "      <td>0.0</td>\n",
       "      <td>0.0</td>\n",
       "    </tr>\n",
       "    <tr>\n",
       "      <th>540001</th>\n",
       "      <td>0.0</td>\n",
       "      <td>0.0</td>\n",
       "      <td>0.0</td>\n",
       "      <td>0.0</td>\n",
       "      <td>0.0</td>\n",
       "      <td>0.0</td>\n",
       "      <td>0.0</td>\n",
       "      <td>0.0</td>\n",
       "      <td>0.0</td>\n",
       "      <td>0.0</td>\n",
       "      <td>...</td>\n",
       "      <td>0.0</td>\n",
       "      <td>0.0</td>\n",
       "      <td>0.0</td>\n",
       "      <td>0.0</td>\n",
       "      <td>0.0</td>\n",
       "      <td>0.0</td>\n",
       "      <td>0.0</td>\n",
       "      <td>0.0</td>\n",
       "      <td>0.0</td>\n",
       "      <td>0.0</td>\n",
       "    </tr>\n",
       "    <tr>\n",
       "      <th>540002</th>\n",
       "      <td>0.0</td>\n",
       "      <td>0.0</td>\n",
       "      <td>0.0</td>\n",
       "      <td>0.0</td>\n",
       "      <td>0.0</td>\n",
       "      <td>0.0</td>\n",
       "      <td>0.0</td>\n",
       "      <td>0.0</td>\n",
       "      <td>0.0</td>\n",
       "      <td>0.0</td>\n",
       "      <td>...</td>\n",
       "      <td>0.0</td>\n",
       "      <td>0.0</td>\n",
       "      <td>0.0</td>\n",
       "      <td>0.0</td>\n",
       "      <td>0.0</td>\n",
       "      <td>0.0</td>\n",
       "      <td>0.0</td>\n",
       "      <td>0.0</td>\n",
       "      <td>0.0</td>\n",
       "      <td>0.0</td>\n",
       "    </tr>\n",
       "  </tbody>\n",
       "</table>\n",
       "<p>3 rows × 3893 columns</p>\n",
       "</div>"
      ],
      "text/plain": [
       "Itemname  10 COLOUR SPACEBOY PEN  12 COLOURED PARTY BALLOONS   \n",
       "BillNo                                                         \n",
       "539993                       0.0                         0.0  \\\n",
       "540001                       0.0                         0.0   \n",
       "540002                       0.0                         0.0   \n",
       "\n",
       "Itemname  12 DAISY PEGS IN WOOD BOX  12 EGG HOUSE PAINTED WOOD   \n",
       "BillNo                                                           \n",
       "539993                          0.0                        0.0  \\\n",
       "540001                          0.0                        0.0   \n",
       "540002                          0.0                        0.0   \n",
       "\n",
       "Itemname  12 HANGING EGGS HAND PAINTED  12 IVORY ROSE PEG PLACE SETTINGS   \n",
       "BillNo                                                                     \n",
       "539993                             0.0                               0.0  \\\n",
       "540001                             0.0                               0.0   \n",
       "540002                             0.0                               0.0   \n",
       "\n",
       "Itemname  12 MESSAGE CARDS WITH ENVELOPES  12 PENCIL SMALL TUBE WOODLAND   \n",
       "BillNo                                                                     \n",
       "539993                                0.0                            0.0  \\\n",
       "540001                                0.0                            0.0   \n",
       "540002                                0.0                            0.0   \n",
       "\n",
       "Itemname  12 PENCILS SMALL TUBE RED RETROSPOT  12 PENCILS SMALL TUBE SKULL   \n",
       "BillNo                                                                       \n",
       "539993                                    0.0                          0.0  \\\n",
       "540001                                    0.0                          0.0   \n",
       "540002                                    0.0                          0.0   \n",
       "\n",
       "Itemname  ...  ZINC STAR T-LIGHT HOLDER  ZINC SWEETHEART SOAP DISH   \n",
       "BillNo    ...                                                        \n",
       "539993    ...                       0.0                        0.0  \\\n",
       "540001    ...                       0.0                        0.0   \n",
       "540002    ...                       0.0                        0.0   \n",
       "\n",
       "Itemname  ZINC SWEETHEART WIRE LETTER RACK  ZINC T-LIGHT HOLDER STAR LARGE   \n",
       "BillNo                                                                       \n",
       "539993                                 0.0                             0.0  \\\n",
       "540001                                 0.0                             0.0   \n",
       "540002                                 0.0                             0.0   \n",
       "\n",
       "Itemname  ZINC T-LIGHT HOLDER STARS LARGE  ZINC T-LIGHT HOLDER STARS SMALL   \n",
       "BillNo                                                                       \n",
       "539993                                0.0                              0.0  \\\n",
       "540001                                0.0                              0.0   \n",
       "540002                                0.0                              0.0   \n",
       "\n",
       "Itemname  ZINC TOP  2 DOOR WOODEN SHELF  ZINC WILLIE WINKIE  CANDLE STICK   \n",
       "BillNo                                                                      \n",
       "539993                              0.0                               0.0  \\\n",
       "540001                              0.0                               0.0   \n",
       "540002                              0.0                               0.0   \n",
       "\n",
       "Itemname  ZINC WIRE KITCHEN ORGANISER  ZINC WIRE SWEETHEART LETTER TRAY  \n",
       "BillNo                                                                   \n",
       "539993                            0.0                               0.0  \n",
       "540001                            0.0                               0.0  \n",
       "540002                            0.0                               0.0  \n",
       "\n",
       "[3 rows x 3893 columns]"
      ]
     },
     "execution_count": 67,
     "metadata": {},
     "output_type": "execute_result"
    }
   ],
   "source": [
    "basket.head(3)"
   ]
  },
  {
   "cell_type": "code",
   "execution_count": 68,
   "id": "9c6680d0",
   "metadata": {
    "_kg_hide-input": true,
    "_kg_hide-output": true,
    "execution": {
     "iopub.execute_input": "2023-07-09T07:35:09.919941Z",
     "iopub.status.busy": "2023-07-09T07:35:09.919490Z",
     "iopub.status.idle": "2023-07-09T07:35:09.924940Z",
     "shell.execute_reply": "2023-07-09T07:35:09.923781Z"
    },
    "papermill": {
     "duration": 0.033656,
     "end_time": "2023-07-09T07:35:09.927415",
     "exception": false,
     "start_time": "2023-07-09T07:35:09.893759",
     "status": "completed"
    },
    "tags": []
   },
   "outputs": [],
   "source": [
    "def encode_units(x):\n",
    "  if x<=0:\n",
    "    return 0\n",
    "  if x>=1:\n",
    "    return 1"
   ]
  },
  {
   "cell_type": "code",
   "execution_count": 69,
   "id": "a78db402",
   "metadata": {
    "_kg_hide-input": true,
    "_kg_hide-output": true,
    "execution": {
     "iopub.execute_input": "2023-07-09T07:35:09.978390Z",
     "iopub.status.busy": "2023-07-09T07:35:09.977603Z",
     "iopub.status.idle": "2023-07-09T07:36:04.483339Z",
     "shell.execute_reply": "2023-07-09T07:36:04.482303Z"
    },
    "papermill": {
     "duration": 54.535227,
     "end_time": "2023-07-09T07:36:04.486893",
     "exception": false,
     "start_time": "2023-07-09T07:35:09.951666",
     "status": "completed"
    },
    "tags": []
   },
   "outputs": [],
   "source": [
    "basket_sets=basket.applymap(encode_units)"
   ]
  },
  {
   "cell_type": "code",
   "execution_count": 70,
   "id": "64633e75",
   "metadata": {
    "_kg_hide-input": true,
    "_kg_hide-output": true,
    "execution": {
     "iopub.execute_input": "2023-07-09T07:36:04.539167Z",
     "iopub.status.busy": "2023-07-09T07:36:04.538734Z",
     "iopub.status.idle": "2023-07-09T07:36:06.822561Z",
     "shell.execute_reply": "2023-07-09T07:36:06.821408Z"
    },
    "papermill": {
     "duration": 2.312371,
     "end_time": "2023-07-09T07:36:06.825439",
     "exception": false,
     "start_time": "2023-07-09T07:36:04.513068",
     "status": "completed"
    },
    "tags": []
   },
   "outputs": [],
   "source": [
    "frequent_itemsets=apriori(basket_sets,min_support=0.03,use_colnames=True)"
   ]
  },
  {
   "cell_type": "code",
   "execution_count": 71,
   "id": "51396ad2",
   "metadata": {
    "_kg_hide-input": true,
    "execution": {
     "iopub.execute_input": "2023-07-09T07:36:06.876268Z",
     "iopub.status.busy": "2023-07-09T07:36:06.875300Z",
     "iopub.status.idle": "2023-07-09T07:36:06.905162Z",
     "shell.execute_reply": "2023-07-09T07:36:06.903919Z"
    },
    "papermill": {
     "duration": 0.057982,
     "end_time": "2023-07-09T07:36:06.907804",
     "exception": false,
     "start_time": "2023-07-09T07:36:06.849822",
     "status": "completed"
    },
    "tags": []
   },
   "outputs": [
    {
     "data": {
      "text/html": [
       "<div>\n",
       "<style scoped>\n",
       "    .dataframe tbody tr th:only-of-type {\n",
       "        vertical-align: middle;\n",
       "    }\n",
       "\n",
       "    .dataframe tbody tr th {\n",
       "        vertical-align: top;\n",
       "    }\n",
       "\n",
       "    .dataframe thead th {\n",
       "        text-align: right;\n",
       "    }\n",
       "</style>\n",
       "<table border=\"1\" class=\"dataframe\">\n",
       "  <thead>\n",
       "    <tr style=\"text-align: right;\">\n",
       "      <th></th>\n",
       "      <th>antecedents</th>\n",
       "      <th>consequents</th>\n",
       "      <th>antecedent support</th>\n",
       "      <th>consequent support</th>\n",
       "      <th>support</th>\n",
       "      <th>confidence</th>\n",
       "      <th>lift</th>\n",
       "      <th>leverage</th>\n",
       "      <th>conviction</th>\n",
       "      <th>zhangs_metric</th>\n",
       "    </tr>\n",
       "  </thead>\n",
       "  <tbody>\n",
       "    <tr>\n",
       "      <th>0</th>\n",
       "      <td>(ALARM CLOCK BAKELIKE GREEN)</td>\n",
       "      <td>(ALARM CLOCK BAKELIKE RED)</td>\n",
       "      <td>0.05</td>\n",
       "      <td>0.05</td>\n",
       "      <td>0.03</td>\n",
       "      <td>0.64</td>\n",
       "      <td>12.41</td>\n",
       "      <td>0.03</td>\n",
       "      <td>2.64</td>\n",
       "      <td>0.97</td>\n",
       "    </tr>\n",
       "    <tr>\n",
       "      <th>1</th>\n",
       "      <td>(ALARM CLOCK BAKELIKE RED)</td>\n",
       "      <td>(ALARM CLOCK BAKELIKE GREEN)</td>\n",
       "      <td>0.05</td>\n",
       "      <td>0.05</td>\n",
       "      <td>0.03</td>\n",
       "      <td>0.59</td>\n",
       "      <td>12.41</td>\n",
       "      <td>0.03</td>\n",
       "      <td>2.32</td>\n",
       "      <td>0.97</td>\n",
       "    </tr>\n",
       "    <tr>\n",
       "      <th>2</th>\n",
       "      <td>(GARDENERS KNEELING PAD CUP OF TEA)</td>\n",
       "      <td>(GARDENERS KNEELING PAD KEEP CALM)</td>\n",
       "      <td>0.05</td>\n",
       "      <td>0.05</td>\n",
       "      <td>0.03</td>\n",
       "      <td>0.72</td>\n",
       "      <td>13.23</td>\n",
       "      <td>0.03</td>\n",
       "      <td>3.39</td>\n",
       "      <td>0.97</td>\n",
       "    </tr>\n",
       "    <tr>\n",
       "      <th>3</th>\n",
       "      <td>(GARDENERS KNEELING PAD KEEP CALM)</td>\n",
       "      <td>(GARDENERS KNEELING PAD CUP OF TEA)</td>\n",
       "      <td>0.05</td>\n",
       "      <td>0.05</td>\n",
       "      <td>0.03</td>\n",
       "      <td>0.60</td>\n",
       "      <td>13.23</td>\n",
       "      <td>0.03</td>\n",
       "      <td>2.40</td>\n",
       "      <td>0.98</td>\n",
       "    </tr>\n",
       "    <tr>\n",
       "      <th>4</th>\n",
       "      <td>(GREEN REGENCY TEACUP AND SAUCER)</td>\n",
       "      <td>(PINK REGENCY TEACUP AND SAUCER)</td>\n",
       "      <td>0.05</td>\n",
       "      <td>0.04</td>\n",
       "      <td>0.03</td>\n",
       "      <td>0.66</td>\n",
       "      <td>15.50</td>\n",
       "      <td>0.03</td>\n",
       "      <td>2.80</td>\n",
       "      <td>0.99</td>\n",
       "    </tr>\n",
       "  </tbody>\n",
       "</table>\n",
       "</div>"
      ],
      "text/plain": [
       "                           antecedents                          consequents   \n",
       "0         (ALARM CLOCK BAKELIKE GREEN)           (ALARM CLOCK BAKELIKE RED)  \\\n",
       "1           (ALARM CLOCK BAKELIKE RED)         (ALARM CLOCK BAKELIKE GREEN)   \n",
       "2  (GARDENERS KNEELING PAD CUP OF TEA)   (GARDENERS KNEELING PAD KEEP CALM)   \n",
       "3   (GARDENERS KNEELING PAD KEEP CALM)  (GARDENERS KNEELING PAD CUP OF TEA)   \n",
       "4    (GREEN REGENCY TEACUP AND SAUCER)     (PINK REGENCY TEACUP AND SAUCER)   \n",
       "\n",
       "   antecedent support  consequent support  support  confidence   lift   \n",
       "0                0.05                0.05     0.03        0.64  12.41  \\\n",
       "1                0.05                0.05     0.03        0.59  12.41   \n",
       "2                0.05                0.05     0.03        0.72  13.23   \n",
       "3                0.05                0.05     0.03        0.60  13.23   \n",
       "4                0.05                0.04     0.03        0.66  15.50   \n",
       "\n",
       "   leverage  conviction  zhangs_metric  \n",
       "0      0.03        2.64           0.97  \n",
       "1      0.03        2.32           0.97  \n",
       "2      0.03        3.39           0.97  \n",
       "3      0.03        2.40           0.98  \n",
       "4      0.03        2.80           0.99  "
      ]
     },
     "execution_count": 71,
     "metadata": {},
     "output_type": "execute_result"
    }
   ],
   "source": [
    "rules=round(association_rules(frequent_itemsets,metric='lift',min_threshold=1),2)\n",
    "rules.head(5)"
   ]
  },
  {
   "cell_type": "code",
   "execution_count": 72,
   "id": "f4fe0338",
   "metadata": {
    "_kg_hide-input": true,
    "_kg_hide-output": true,
    "execution": {
     "iopub.execute_input": "2023-07-09T07:36:06.959035Z",
     "iopub.status.busy": "2023-07-09T07:36:06.958539Z",
     "iopub.status.idle": "2023-07-09T07:36:08.522648Z",
     "shell.execute_reply": "2023-07-09T07:36:08.521781Z"
    },
    "papermill": {
     "duration": 1.592553,
     "end_time": "2023-07-09T07:36:08.525001",
     "exception": false,
     "start_time": "2023-07-09T07:36:06.932448",
     "status": "completed"
    },
    "tags": []
   },
   "outputs": [
    {
     "data": {
      "image/png": "[encoded data removed]",
      "text/plain": [
       "<Figure size 600x600 with 4 Axes>"
      ]
     },
     "metadata": {},
     "output_type": "display_data"
    }
   ],
   "source": [
    "plt.figure(figsize=(6,6))\n",
    "plt.subplot(221)\n",
    "sns.scatterplot(x=\"support\",y=\"confidence\",data=rules,hue=\"lift\",palette=\"viridis\")\n",
    "plt.subplot(222)\n",
    "sns.scatterplot(x=\"support\",y=\"lift\",data=rules,hue=\"confidence\",palette=\"viridis\")\n",
    "plt.subplot(223)\n",
    "sns.scatterplot(x=\"confidence\",y=\"lift\",data=rules,hue='support',palette=\"viridis\")\n",
    "plt.subplot(224)\n",
    "sns.scatterplot(x=\"antecedent support\",y=\"consequent support\",data=rules,hue='confidence',palette=\"viridis\")\n",
    "plt.tight_layout()\n",
    "plt.show()"
   ]
  },
  {
   "cell_type": "markdown",
   "id": "8c4db7ec",
   "metadata": {
    "papermill": {
     "duration": 0.025312,
     "end_time": "2023-07-09T07:36:08.576910",
     "exception": false,
     "start_time": "2023-07-09T07:36:08.551598",
     "status": "completed"
    },
    "tags": []
   },
   "source": [
    "### <b><span style='color:#f0bc22'></span> The top 5 of the highest **`support`** value of items(antecedents)"
   ]
  },
  {
   "cell_type": "markdown",
   "id": "ae6d89c6",
   "metadata": {
    "papermill": {
     "duration": 0.025417,
     "end_time": "2023-07-09T07:36:08.629216",
     "exception": false,
     "start_time": "2023-07-09T07:36:08.603799",
     "status": "completed"
    },
    "tags": []
   },
   "source": [
    "> #### *Support(item) = Transactions comprising the item / Total transactions*"
   ]
  },
  {
   "cell_type": "code",
   "execution_count": 73,
   "id": "50d8935e",
   "metadata": {
    "_kg_hide-input": true,
    "execution": {
     "iopub.execute_input": "2023-07-09T07:36:08.683689Z",
     "iopub.status.busy": "2023-07-09T07:36:08.682552Z",
     "iopub.status.idle": "2023-07-09T07:36:08.699191Z",
     "shell.execute_reply": "2023-07-09T07:36:08.698361Z"
    },
    "papermill": {
     "duration": 0.045992,
     "end_time": "2023-07-09T07:36:08.701361",
     "exception": false,
     "start_time": "2023-07-09T07:36:08.655369",
     "status": "completed"
    },
    "tags": []
   },
   "outputs": [
    {
     "data": {
      "text/html": [
       "<style type=\"text/css\">\n",
       "#T_98737_row0_col2, #T_98737_row1_col2 {\n",
       "  background-color: #008000;\n",
       "  color: #f1f1f1;\n",
       "}\n",
       "#T_98737_row2_col2, #T_98737_row3_col2, #T_98737_row4_col2 {\n",
       "  background-color: #ebf3eb;\n",
       "  color: #000000;\n",
       "}\n",
       "</style>\n",
       "<table id=\"T_98737\">\n",
       "  <thead>\n",
       "    <tr>\n",
       "      <th class=\"blank level0\" >&nbsp;</th>\n",
       "      <th id=\"T_98737_level0_col0\" class=\"col_heading level0 col0\" >antecedents</th>\n",
       "      <th id=\"T_98737_level0_col1\" class=\"col_heading level0 col1\" >consequents</th>\n",
       "      <th id=\"T_98737_level0_col2\" class=\"col_heading level0 col2\" >support</th>\n",
       "    </tr>\n",
       "  </thead>\n",
       "  <tbody>\n",
       "    <tr>\n",
       "      <th id=\"T_98737_level0_row0\" class=\"row_heading level0 row0\" >13</th>\n",
       "      <td id=\"T_98737_row0_col0\" class=\"data row0 col0\" >frozenset({'JUMBO BAG PINK POLKADOT'})</td>\n",
       "      <td id=\"T_98737_row0_col1\" class=\"data row0 col1\" >frozenset({'JUMBO BAG RED RETROSPOT'})</td>\n",
       "      <td id=\"T_98737_row0_col2\" class=\"data row0 col2\" >0.050000</td>\n",
       "    </tr>\n",
       "    <tr>\n",
       "      <th id=\"T_98737_level0_row1\" class=\"row_heading level0 row1\" >12</th>\n",
       "      <td id=\"T_98737_row1_col0\" class=\"data row1 col0\" >frozenset({'JUMBO BAG RED RETROSPOT'})</td>\n",
       "      <td id=\"T_98737_row1_col1\" class=\"data row1 col1\" >frozenset({'JUMBO BAG PINK POLKADOT'})</td>\n",
       "      <td id=\"T_98737_row1_col2\" class=\"data row1 col2\" >0.050000</td>\n",
       "    </tr>\n",
       "    <tr>\n",
       "      <th id=\"T_98737_level0_row2\" class=\"row_heading level0 row2\" >16</th>\n",
       "      <td id=\"T_98737_row2_col0\" class=\"data row2 col0\" >frozenset({'JUMBO BAG RED RETROSPOT'})</td>\n",
       "      <td id=\"T_98737_row2_col1\" class=\"data row2 col1\" >frozenset({'JUMBO STORAGE BAG SUKI'})</td>\n",
       "      <td id=\"T_98737_row2_col2\" class=\"data row2 col2\" >0.040000</td>\n",
       "    </tr>\n",
       "    <tr>\n",
       "      <th id=\"T_98737_level0_row3\" class=\"row_heading level0 row3\" >17</th>\n",
       "      <td id=\"T_98737_row3_col0\" class=\"data row3 col0\" >frozenset({'JUMBO STORAGE BAG SUKI'})</td>\n",
       "      <td id=\"T_98737_row3_col1\" class=\"data row3 col1\" >frozenset({'JUMBO BAG RED RETROSPOT'})</td>\n",
       "      <td id=\"T_98737_row3_col2\" class=\"data row3 col2\" >0.040000</td>\n",
       "    </tr>\n",
       "    <tr>\n",
       "      <th id=\"T_98737_level0_row4\" class=\"row_heading level0 row4\" >15</th>\n",
       "      <td id=\"T_98737_row4_col0\" class=\"data row4 col0\" >frozenset({'JUMBO SHOPPER VINTAGE RED PAISLEY'})</td>\n",
       "      <td id=\"T_98737_row4_col1\" class=\"data row4 col1\" >frozenset({'JUMBO BAG RED RETROSPOT'})</td>\n",
       "      <td id=\"T_98737_row4_col2\" class=\"data row4 col2\" >0.040000</td>\n",
       "    </tr>\n",
       "  </tbody>\n",
       "</table>\n"
      ],
      "text/plain": [
       "<pandas.io.formats.style.Styler at 0x22427c11110>"
      ]
     },
     "execution_count": 73,
     "metadata": {},
     "output_type": "execute_result"
    }
   ],
   "source": [
    "rules[['antecedents','consequents','support']].sort_values('support',ascending=False)[:5].style.background_gradient(cmap=cm)"
   ]
  },
  {
   "cell_type": "markdown",
   "id": "e628e0bf",
   "metadata": {
    "papermill": {
     "duration": 0.025674,
     "end_time": "2023-07-09T07:36:08.752970",
     "exception": false,
     "start_time": "2023-07-09T07:36:08.727296",
     "status": "completed"
    },
    "tags": []
   },
   "source": [
    "In the top support value of purchase, it means that \"JUMBO BAG PINK RETROSPOT\" is present in 5% of all purchases."
   ]
  },
  {
   "cell_type": "markdown",
   "id": "a83da12f",
   "metadata": {
    "papermill": {
     "duration": 0.026353,
     "end_time": "2023-07-09T07:36:08.805822",
     "exception": false,
     "start_time": "2023-07-09T07:36:08.779469",
     "status": "completed"
    },
    "tags": []
   },
   "source": [
    "### <b><span style='color:#f0bc22'></span> The top 5 of the highest **`confidence`** value of items"
   ]
  },
  {
   "cell_type": "markdown",
   "id": "1fac8f09",
   "metadata": {
    "papermill": {
     "duration": 0.02539,
     "end_time": "2023-07-09T07:36:08.857154",
     "exception": false,
     "start_time": "2023-07-09T07:36:08.831764",
     "status": "completed"
    },
    "tags": []
   },
   "source": [
    "> #### *Confidence = Transactions comprising antecedent and consequent / Transactions comprising antecedent*"
   ]
  },
  {
   "cell_type": "code",
   "execution_count": 74,
   "id": "c37c8e4c",
   "metadata": {
    "_kg_hide-input": true,
    "execution": {
     "iopub.execute_input": "2023-07-09T07:36:08.912595Z",
     "iopub.status.busy": "2023-07-09T07:36:08.911379Z",
     "iopub.status.idle": "2023-07-09T07:36:08.927510Z",
     "shell.execute_reply": "2023-07-09T07:36:08.926433Z"
    },
    "papermill": {
     "duration": 0.046296,
     "end_time": "2023-07-09T07:36:08.930016",
     "exception": false,
     "start_time": "2023-07-09T07:36:08.883720",
     "status": "completed"
    },
    "tags": []
   },
   "outputs": [
    {
     "data": {
      "text/html": [
       "<style type=\"text/css\">\n",
       "#T_aa89f_row0_col2 {\n",
       "  background-color: #008000;\n",
       "  color: #f1f1f1;\n",
       "}\n",
       "#T_aa89f_row1_col2 {\n",
       "  background-color: #5eae5e;\n",
       "  color: #f1f1f1;\n",
       "}\n",
       "#T_aa89f_row2_col2 {\n",
       "  background-color: #a5d1a5;\n",
       "  color: #000000;\n",
       "}\n",
       "#T_aa89f_row3_col2 {\n",
       "  background-color: #d4e8d4;\n",
       "  color: #000000;\n",
       "}\n",
       "#T_aa89f_row4_col2 {\n",
       "  background-color: #ebf3eb;\n",
       "  color: #000000;\n",
       "}\n",
       "</style>\n",
       "<table id=\"T_aa89f\">\n",
       "  <thead>\n",
       "    <tr>\n",
       "      <th class=\"blank level0\" >&nbsp;</th>\n",
       "      <th id=\"T_aa89f_level0_col0\" class=\"col_heading level0 col0\" >antecedents</th>\n",
       "      <th id=\"T_aa89f_level0_col1\" class=\"col_heading level0 col1\" >consequents</th>\n",
       "      <th id=\"T_aa89f_level0_col2\" class=\"col_heading level0 col2\" >confidence</th>\n",
       "    </tr>\n",
       "  </thead>\n",
       "  <tbody>\n",
       "    <tr>\n",
       "      <th id=\"T_aa89f_level0_row0\" class=\"row_heading level0 row0\" >5</th>\n",
       "      <td id=\"T_aa89f_row0_col0\" class=\"data row0 col0\" >frozenset({'PINK REGENCY TEACUP AND SAUCER'})</td>\n",
       "      <td id=\"T_aa89f_row0_col1\" class=\"data row0 col1\" >frozenset({'GREEN REGENCY TEACUP AND SAUCER'})</td>\n",
       "      <td id=\"T_aa89f_row0_col2\" class=\"data row0 col2\" >0.820000</td>\n",
       "    </tr>\n",
       "    <tr>\n",
       "      <th id=\"T_aa89f_level0_row1\" class=\"row_heading level0 row1\" >30</th>\n",
       "      <td id=\"T_aa89f_row1_col0\" class=\"data row1 col0\" >frozenset({'PINK REGENCY TEACUP AND SAUCER'})</td>\n",
       "      <td id=\"T_aa89f_row1_col1\" class=\"data row1 col1\" >frozenset({'ROSES REGENCY TEACUP AND SAUCER'})</td>\n",
       "      <td id=\"T_aa89f_row1_col2\" class=\"data row1 col2\" >0.780000</td>\n",
       "    </tr>\n",
       "    <tr>\n",
       "      <th id=\"T_aa89f_level0_row2\" class=\"row_heading level0 row2\" >6</th>\n",
       "      <td id=\"T_aa89f_row2_col0\" class=\"data row2 col0\" >frozenset({'GREEN REGENCY TEACUP AND SAUCER'})</td>\n",
       "      <td id=\"T_aa89f_row2_col1\" class=\"data row2 col1\" >frozenset({'ROSES REGENCY TEACUP AND SAUCER'})</td>\n",
       "      <td id=\"T_aa89f_row2_col2\" class=\"data row2 col2\" >0.750000</td>\n",
       "    </tr>\n",
       "    <tr>\n",
       "      <th id=\"T_aa89f_level0_row3\" class=\"row_heading level0 row3\" >7</th>\n",
       "      <td id=\"T_aa89f_row3_col0\" class=\"data row3 col0\" >frozenset({'ROSES REGENCY TEACUP AND SAUCER'})</td>\n",
       "      <td id=\"T_aa89f_row3_col1\" class=\"data row3 col1\" >frozenset({'GREEN REGENCY TEACUP AND SAUCER'})</td>\n",
       "      <td id=\"T_aa89f_row3_col2\" class=\"data row3 col2\" >0.730000</td>\n",
       "    </tr>\n",
       "    <tr>\n",
       "      <th id=\"T_aa89f_level0_row4\" class=\"row_heading level0 row4\" >2</th>\n",
       "      <td id=\"T_aa89f_row4_col0\" class=\"data row4 col0\" >frozenset({'GARDENERS KNEELING PAD CUP OF TEA'})</td>\n",
       "      <td id=\"T_aa89f_row4_col1\" class=\"data row4 col1\" >frozenset({'GARDENERS KNEELING PAD KEEP CALM'})</td>\n",
       "      <td id=\"T_aa89f_row4_col2\" class=\"data row4 col2\" >0.720000</td>\n",
       "    </tr>\n",
       "  </tbody>\n",
       "</table>\n"
      ],
      "text/plain": [
       "<pandas.io.formats.style.Styler at 0x22400057d90>"
      ]
     },
     "execution_count": 74,
     "metadata": {},
     "output_type": "execute_result"
    }
   ],
   "source": [
    "rules[['antecedents','consequents','confidence']].sort_values('confidence',ascending=False)[:5].style.background_gradient(cmap=cm)"
   ]
  },
  {
   "cell_type": "markdown",
   "id": "738538e1",
   "metadata": {
    "papermill": {
     "duration": 0.026387,
     "end_time": "2023-07-09T07:36:08.983266",
     "exception": false,
     "start_time": "2023-07-09T07:36:08.956879",
     "status": "completed"
    },
    "tags": []
   },
   "source": [
    "In the top confidence value of the purchase, it means that 82% of the customers who bought \"PINK REGENCY TEACUP AND SAUCER\" also bought \"GREEN REGENCY TEACUP AND SAUCER\"."
   ]
  },
  {
   "cell_type": "markdown",
   "id": "ca9de296",
   "metadata": {
    "papermill": {
     "duration": 0.02588,
     "end_time": "2023-07-09T07:36:09.035768",
     "exception": false,
     "start_time": "2023-07-09T07:36:09.009888",
     "status": "completed"
    },
    "tags": []
   },
   "source": [
    "### <b><span style='color:#f0bc22'></span> The top 5 of the highest **`lift`** value of items"
   ]
  },
  {
   "cell_type": "markdown",
   "id": "6c21a3e5",
   "metadata": {
    "papermill": {
     "duration": 0.025977,
     "end_time": "2023-07-09T07:36:09.088361",
     "exception": false,
     "start_time": "2023-07-09T07:36:09.062384",
     "status": "completed"
    },
    "tags": []
   },
   "source": [
    "> #### *Lift = Confidence (antecedent -> consequent) / Support(antecedent)*"
   ]
  },
  {
   "cell_type": "code",
   "execution_count": 75,
   "id": "129c9a11",
   "metadata": {
    "execution": {
     "iopub.execute_input": "2023-07-09T07:36:09.143748Z",
     "iopub.status.busy": "2023-07-09T07:36:09.143307Z",
     "iopub.status.idle": "2023-07-09T07:36:09.159780Z",
     "shell.execute_reply": "2023-07-09T07:36:09.158657Z"
    },
    "papermill": {
     "duration": 0.047639,
     "end_time": "2023-07-09T07:36:09.162376",
     "exception": false,
     "start_time": "2023-07-09T07:36:09.114737",
     "status": "completed"
    },
    "tags": []
   },
   "outputs": [
    {
     "data": {
      "text/html": [
       "<style type=\"text/css\">\n",
       "#T_a6e11_row0_col2, #T_a6e11_row1_col2 {\n",
       "  background-color: #008000;\n",
       "  color: #f1f1f1;\n",
       "}\n",
       "#T_a6e11_row2_col2, #T_a6e11_row3_col2 {\n",
       "  background-color: #a3d0a3;\n",
       "  color: #000000;\n",
       "}\n",
       "#T_a6e11_row4_col2 {\n",
       "  background-color: #ebf3eb;\n",
       "  color: #000000;\n",
       "}\n",
       "</style>\n",
       "<table id=\"T_a6e11\">\n",
       "  <thead>\n",
       "    <tr>\n",
       "      <th class=\"blank level0\" >&nbsp;</th>\n",
       "      <th id=\"T_a6e11_level0_col0\" class=\"col_heading level0 col0\" >antecedents</th>\n",
       "      <th id=\"T_a6e11_level0_col1\" class=\"col_heading level0 col1\" >consequents</th>\n",
       "      <th id=\"T_a6e11_level0_col2\" class=\"col_heading level0 col2\" >lift</th>\n",
       "    </tr>\n",
       "  </thead>\n",
       "  <tbody>\n",
       "    <tr>\n",
       "      <th id=\"T_a6e11_level0_row0\" class=\"row_heading level0 row0\" >4</th>\n",
       "      <td id=\"T_a6e11_row0_col0\" class=\"data row0 col0\" >frozenset({'GREEN REGENCY TEACUP AND SAUCER'})</td>\n",
       "      <td id=\"T_a6e11_row0_col1\" class=\"data row0 col1\" >frozenset({'PINK REGENCY TEACUP AND SAUCER'})</td>\n",
       "      <td id=\"T_a6e11_row0_col2\" class=\"data row0 col2\" >15.500000</td>\n",
       "    </tr>\n",
       "    <tr>\n",
       "      <th id=\"T_a6e11_level0_row1\" class=\"row_heading level0 row1\" >5</th>\n",
       "      <td id=\"T_a6e11_row1_col0\" class=\"data row1 col0\" >frozenset({'PINK REGENCY TEACUP AND SAUCER'})</td>\n",
       "      <td id=\"T_a6e11_row1_col1\" class=\"data row1 col1\" >frozenset({'GREEN REGENCY TEACUP AND SAUCER'})</td>\n",
       "      <td id=\"T_a6e11_row1_col2\" class=\"data row1 col2\" >15.500000</td>\n",
       "    </tr>\n",
       "    <tr>\n",
       "      <th id=\"T_a6e11_level0_row2\" class=\"row_heading level0 row2\" >31</th>\n",
       "      <td id=\"T_a6e11_row2_col0\" class=\"data row2 col0\" >frozenset({'ROSES REGENCY TEACUP AND SAUCER'})</td>\n",
       "      <td id=\"T_a6e11_row2_col1\" class=\"data row2 col1\" >frozenset({'PINK REGENCY TEACUP AND SAUCER'})</td>\n",
       "      <td id=\"T_a6e11_row2_col2\" class=\"data row2 col2\" >14.360000</td>\n",
       "    </tr>\n",
       "    <tr>\n",
       "      <th id=\"T_a6e11_level0_row3\" class=\"row_heading level0 row3\" >30</th>\n",
       "      <td id=\"T_a6e11_row3_col0\" class=\"data row3 col0\" >frozenset({'PINK REGENCY TEACUP AND SAUCER'})</td>\n",
       "      <td id=\"T_a6e11_row3_col1\" class=\"data row3 col1\" >frozenset({'ROSES REGENCY TEACUP AND SAUCER'})</td>\n",
       "      <td id=\"T_a6e11_row3_col2\" class=\"data row3 col2\" >14.360000</td>\n",
       "    </tr>\n",
       "    <tr>\n",
       "      <th id=\"T_a6e11_level0_row4\" class=\"row_heading level0 row4\" >6</th>\n",
       "      <td id=\"T_a6e11_row4_col0\" class=\"data row4 col0\" >frozenset({'GREEN REGENCY TEACUP AND SAUCER'})</td>\n",
       "      <td id=\"T_a6e11_row4_col1\" class=\"data row4 col1\" >frozenset({'ROSES REGENCY TEACUP AND SAUCER'})</td>\n",
       "      <td id=\"T_a6e11_row4_col2\" class=\"data row4 col2\" >13.860000</td>\n",
       "    </tr>\n",
       "  </tbody>\n",
       "</table>\n"
      ],
      "text/plain": [
       "<pandas.io.formats.style.Styler at 0x2240020cdd0>"
      ]
     },
     "execution_count": 75,
     "metadata": {},
     "output_type": "execute_result"
    }
   ],
   "source": [
    "rules[['antecedents','consequents','lift']].sort_values('lift',ascending=False)[:5].style.background_gradient(cmap=cm)"
   ]
  },
  {
   "cell_type": "markdown",
   "id": "cb2c94c6",
   "metadata": {
    "papermill": {
     "duration": 0.026029,
     "end_time": "2023-07-09T07:36:09.215815",
     "exception": false,
     "start_time": "2023-07-09T07:36:09.189786",
     "status": "completed"
    },
    "tags": []
   },
   "source": [
    "In the top list value of the purchase, it means that customers are 15.5 times more likely to buy \"GREEN REGENCY TEACUP AND SAUCER\" if you sell \"PINK REGENCY TEACUP AND SAUCER\"."
   ]
  },
  {
   "cell_type": "markdown",
   "id": "ac4c8e9d",
   "metadata": {
    "papermill": {
     "duration": 0.026226,
     "end_time": "2023-07-09T07:36:09.268700",
     "exception": false,
     "start_time": "2023-07-09T07:36:09.242474",
     "status": "completed"
    },
    "tags": []
   },
   "source": [
    "### <b><span style='color:#f0bc22'></span> The best combination of the items"
   ]
  },
  {
   "cell_type": "code",
   "execution_count": 76,
   "id": "c0c5afff",
   "metadata": {
    "_kg_hide-input": true,
    "execution": {
     "iopub.execute_input": "2023-07-09T07:36:09.323831Z",
     "iopub.status.busy": "2023-07-09T07:36:09.323101Z",
     "iopub.status.idle": "2023-07-09T07:36:09.345931Z",
     "shell.execute_reply": "2023-07-09T07:36:09.344857Z"
    },
    "papermill": {
     "duration": 0.052732,
     "end_time": "2023-07-09T07:36:09.348232",
     "exception": false,
     "start_time": "2023-07-09T07:36:09.295500",
     "status": "completed"
    },
    "tags": []
   },
   "outputs": [
    {
     "data": {
      "text/html": [
       "<style type=\"text/css\">\n",
       "#T_bb8d5_row0_col2, #T_bb8d5_row0_col3, #T_bb8d5_row0_col4, #T_bb8d5_row0_col7, #T_bb8d5_row1_col2, #T_bb8d5_row1_col3, #T_bb8d5_row1_col4, #T_bb8d5_row1_col7, #T_bb8d5_row1_col9, #T_bb8d5_row2_col3, #T_bb8d5_row3_col3, #T_bb8d5_row4_col3, #T_bb8d5_row4_col4, #T_bb8d5_row4_col5, #T_bb8d5_row4_col6, #T_bb8d5_row4_col7, #T_bb8d5_row4_col8, #T_bb8d5_row4_col9 {\n",
       "  background-color: #ebf3eb;\n",
       "  color: #000000;\n",
       "}\n",
       "#T_bb8d5_row0_col5, #T_bb8d5_row0_col6, #T_bb8d5_row0_col8, #T_bb8d5_row0_col9, #T_bb8d5_row2_col2, #T_bb8d5_row2_col4, #T_bb8d5_row2_col7, #T_bb8d5_row2_col9, #T_bb8d5_row3_col2, #T_bb8d5_row3_col4, #T_bb8d5_row3_col7, #T_bb8d5_row3_col9, #T_bb8d5_row4_col2 {\n",
       "  background-color: #008000;\n",
       "  color: #f1f1f1;\n",
       "}\n",
       "#T_bb8d5_row1_col5 {\n",
       "  background-color: #5eae5e;\n",
       "  color: #f1f1f1;\n",
       "}\n",
       "#T_bb8d5_row1_col6 {\n",
       "  background-color: #76ba76;\n",
       "  color: #f1f1f1;\n",
       "}\n",
       "#T_bb8d5_row1_col8 {\n",
       "  background-color: #80bf80;\n",
       "  color: #000000;\n",
       "}\n",
       "#T_bb8d5_row2_col5 {\n",
       "  background-color: #a5d1a5;\n",
       "  color: #000000;\n",
       "}\n",
       "#T_bb8d5_row2_col6, #T_bb8d5_row3_col6 {\n",
       "  background-color: #a9d3a9;\n",
       "  color: #000000;\n",
       "}\n",
       "#T_bb8d5_row2_col8 {\n",
       "  background-color: #badbba;\n",
       "  color: #000000;\n",
       "}\n",
       "#T_bb8d5_row3_col5 {\n",
       "  background-color: #d4e8d4;\n",
       "  color: #000000;\n",
       "}\n",
       "#T_bb8d5_row3_col8 {\n",
       "  background-color: #d6e9d6;\n",
       "  color: #000000;\n",
       "}\n",
       "</style>\n",
       "<table id=\"T_bb8d5\">\n",
       "  <thead>\n",
       "    <tr>\n",
       "      <th class=\"blank level0\" >&nbsp;</th>\n",
       "      <th id=\"T_bb8d5_level0_col0\" class=\"col_heading level0 col0\" >antecedents</th>\n",
       "      <th id=\"T_bb8d5_level0_col1\" class=\"col_heading level0 col1\" >consequents</th>\n",
       "      <th id=\"T_bb8d5_level0_col2\" class=\"col_heading level0 col2\" >antecedent support</th>\n",
       "      <th id=\"T_bb8d5_level0_col3\" class=\"col_heading level0 col3\" >consequent support</th>\n",
       "      <th id=\"T_bb8d5_level0_col4\" class=\"col_heading level0 col4\" >support</th>\n",
       "      <th id=\"T_bb8d5_level0_col5\" class=\"col_heading level0 col5\" >confidence</th>\n",
       "      <th id=\"T_bb8d5_level0_col6\" class=\"col_heading level0 col6\" >lift</th>\n",
       "      <th id=\"T_bb8d5_level0_col7\" class=\"col_heading level0 col7\" >leverage</th>\n",
       "      <th id=\"T_bb8d5_level0_col8\" class=\"col_heading level0 col8\" >conviction</th>\n",
       "      <th id=\"T_bb8d5_level0_col9\" class=\"col_heading level0 col9\" >zhangs_metric</th>\n",
       "    </tr>\n",
       "  </thead>\n",
       "  <tbody>\n",
       "    <tr>\n",
       "      <th id=\"T_bb8d5_level0_row0\" class=\"row_heading level0 row0\" >5</th>\n",
       "      <td id=\"T_bb8d5_row0_col0\" class=\"data row0 col0\" >frozenset({'PINK REGENCY TEACUP AND SAUCER'})</td>\n",
       "      <td id=\"T_bb8d5_row0_col1\" class=\"data row0 col1\" >frozenset({'GREEN REGENCY TEACUP AND SAUCER'})</td>\n",
       "      <td id=\"T_bb8d5_row0_col2\" class=\"data row0 col2\" >0.040000</td>\n",
       "      <td id=\"T_bb8d5_row0_col3\" class=\"data row0 col3\" >0.050000</td>\n",
       "      <td id=\"T_bb8d5_row0_col4\" class=\"data row0 col4\" >0.030000</td>\n",
       "      <td id=\"T_bb8d5_row0_col5\" class=\"data row0 col5\" >0.820000</td>\n",
       "      <td id=\"T_bb8d5_row0_col6\" class=\"data row0 col6\" >15.500000</td>\n",
       "      <td id=\"T_bb8d5_row0_col7\" class=\"data row0 col7\" >0.030000</td>\n",
       "      <td id=\"T_bb8d5_row0_col8\" class=\"data row0 col8\" >5.250000</td>\n",
       "      <td id=\"T_bb8d5_row0_col9\" class=\"data row0 col9\" >0.980000</td>\n",
       "    </tr>\n",
       "    <tr>\n",
       "      <th id=\"T_bb8d5_level0_row1\" class=\"row_heading level0 row1\" >30</th>\n",
       "      <td id=\"T_bb8d5_row1_col0\" class=\"data row1 col0\" >frozenset({'PINK REGENCY TEACUP AND SAUCER'})</td>\n",
       "      <td id=\"T_bb8d5_row1_col1\" class=\"data row1 col1\" >frozenset({'ROSES REGENCY TEACUP AND SAUCER'})</td>\n",
       "      <td id=\"T_bb8d5_row1_col2\" class=\"data row1 col2\" >0.040000</td>\n",
       "      <td id=\"T_bb8d5_row1_col3\" class=\"data row1 col3\" >0.050000</td>\n",
       "      <td id=\"T_bb8d5_row1_col4\" class=\"data row1 col4\" >0.030000</td>\n",
       "      <td id=\"T_bb8d5_row1_col5\" class=\"data row1 col5\" >0.780000</td>\n",
       "      <td id=\"T_bb8d5_row1_col6\" class=\"data row1 col6\" >14.360000</td>\n",
       "      <td id=\"T_bb8d5_row1_col7\" class=\"data row1 col7\" >0.030000</td>\n",
       "      <td id=\"T_bb8d5_row1_col8\" class=\"data row1 col8\" >4.240000</td>\n",
       "      <td id=\"T_bb8d5_row1_col9\" class=\"data row1 col9\" >0.970000</td>\n",
       "    </tr>\n",
       "    <tr>\n",
       "      <th id=\"T_bb8d5_level0_row2\" class=\"row_heading level0 row2\" >6</th>\n",
       "      <td id=\"T_bb8d5_row2_col0\" class=\"data row2 col0\" >frozenset({'GREEN REGENCY TEACUP AND SAUCER'})</td>\n",
       "      <td id=\"T_bb8d5_row2_col1\" class=\"data row2 col1\" >frozenset({'ROSES REGENCY TEACUP AND SAUCER'})</td>\n",
       "      <td id=\"T_bb8d5_row2_col2\" class=\"data row2 col2\" >0.050000</td>\n",
       "      <td id=\"T_bb8d5_row2_col3\" class=\"data row2 col3\" >0.050000</td>\n",
       "      <td id=\"T_bb8d5_row2_col4\" class=\"data row2 col4\" >0.040000</td>\n",
       "      <td id=\"T_bb8d5_row2_col5\" class=\"data row2 col5\" >0.750000</td>\n",
       "      <td id=\"T_bb8d5_row2_col6\" class=\"data row2 col6\" >13.860000</td>\n",
       "      <td id=\"T_bb8d5_row2_col7\" class=\"data row2 col7\" >0.040000</td>\n",
       "      <td id=\"T_bb8d5_row2_col8\" class=\"data row2 col8\" >3.780000</td>\n",
       "      <td id=\"T_bb8d5_row2_col9\" class=\"data row2 col9\" >0.980000</td>\n",
       "    </tr>\n",
       "    <tr>\n",
       "      <th id=\"T_bb8d5_level0_row3\" class=\"row_heading level0 row3\" >7</th>\n",
       "      <td id=\"T_bb8d5_row3_col0\" class=\"data row3 col0\" >frozenset({'ROSES REGENCY TEACUP AND SAUCER'})</td>\n",
       "      <td id=\"T_bb8d5_row3_col1\" class=\"data row3 col1\" >frozenset({'GREEN REGENCY TEACUP AND SAUCER'})</td>\n",
       "      <td id=\"T_bb8d5_row3_col2\" class=\"data row3 col2\" >0.050000</td>\n",
       "      <td id=\"T_bb8d5_row3_col3\" class=\"data row3 col3\" >0.050000</td>\n",
       "      <td id=\"T_bb8d5_row3_col4\" class=\"data row3 col4\" >0.040000</td>\n",
       "      <td id=\"T_bb8d5_row3_col5\" class=\"data row3 col5\" >0.730000</td>\n",
       "      <td id=\"T_bb8d5_row3_col6\" class=\"data row3 col6\" >13.860000</td>\n",
       "      <td id=\"T_bb8d5_row3_col7\" class=\"data row3 col7\" >0.040000</td>\n",
       "      <td id=\"T_bb8d5_row3_col8\" class=\"data row3 col8\" >3.550000</td>\n",
       "      <td id=\"T_bb8d5_row3_col9\" class=\"data row3 col9\" >0.980000</td>\n",
       "    </tr>\n",
       "    <tr>\n",
       "      <th id=\"T_bb8d5_level0_row4\" class=\"row_heading level0 row4\" >2</th>\n",
       "      <td id=\"T_bb8d5_row4_col0\" class=\"data row4 col0\" >frozenset({'GARDENERS KNEELING PAD CUP OF TEA'})</td>\n",
       "      <td id=\"T_bb8d5_row4_col1\" class=\"data row4 col1\" >frozenset({'GARDENERS KNEELING PAD KEEP CALM'})</td>\n",
       "      <td id=\"T_bb8d5_row4_col2\" class=\"data row4 col2\" >0.050000</td>\n",
       "      <td id=\"T_bb8d5_row4_col3\" class=\"data row4 col3\" >0.050000</td>\n",
       "      <td id=\"T_bb8d5_row4_col4\" class=\"data row4 col4\" >0.030000</td>\n",
       "      <td id=\"T_bb8d5_row4_col5\" class=\"data row4 col5\" >0.720000</td>\n",
       "      <td id=\"T_bb8d5_row4_col6\" class=\"data row4 col6\" >13.230000</td>\n",
       "      <td id=\"T_bb8d5_row4_col7\" class=\"data row4 col7\" >0.030000</td>\n",
       "      <td id=\"T_bb8d5_row4_col8\" class=\"data row4 col8\" >3.390000</td>\n",
       "      <td id=\"T_bb8d5_row4_col9\" class=\"data row4 col9\" >0.970000</td>\n",
       "    </tr>\n",
       "  </tbody>\n",
       "</table>\n"
      ],
      "text/plain": [
       "<pandas.io.formats.style.Styler at 0x223963d9910>"
      ]
     },
     "execution_count": 76,
     "metadata": {},
     "output_type": "execute_result"
    }
   ],
   "source": [
    "rules[(rules['lift']>=13)&(rules['confidence']>=0.7)].sort_values('lift',ascending=False).style.background_gradient(cmap=cm)"
   ]
  },
  {
   "cell_type": "markdown",
   "id": "79c47fb8",
   "metadata": {
    "papermill": {
     "duration": 0.026645,
     "end_time": "2023-07-09T07:36:09.401676",
     "exception": false,
     "start_time": "2023-07-09T07:36:09.375031",
     "status": "completed"
    },
    "tags": []
   },
   "source": [
    "As you can see above, \"REGENCY TEACUP AND SAUCER\" have the best combination of the same items with different colors."
   ]
  }
 ],
 "metadata": {
  "kernelspec": {
   "display_name": "Python 3",
   "language": "python",
   "name": "python3"
  },
  "language_info": {
   "codemirror_mode": {
    "name": "ipython",
    "version": 3
   },
   "file_extension": ".py",
   "mimetype": "text/x-python",
   "name": "python",
   "nbconvert_exporter": "python",
   "pygments_lexer": "ipython3",
   "version": "3.11.3"
  },
  "papermill": {
   "default_parameters": {},
   "duration": 94.218277,
   "end_time": "2023-07-09T07:36:10.969097",
   "environment_variables": {},
   "exception": null,
   "input_path": "__notebook__.ipynb",
   "output_path": "__notebook__.ipynb",
   "parameters": {},
   "start_time": "2023-07-09T07:34:36.750820",
   "version": "2.4.0"
  }
 },
 "nbformat": 4,
 "nbformat_minor": 5
}
